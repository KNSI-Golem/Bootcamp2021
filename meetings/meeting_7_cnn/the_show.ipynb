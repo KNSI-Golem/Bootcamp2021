{
 "cells": [
  {
   "cell_type": "code",
   "execution_count": 1,
   "metadata": {},
   "outputs": [],
   "source": [
    "import os\n",
    "import pandas as pd\n",
    "import tensorflow as tf\n",
    "import numpy as np\n",
    "from tensorflow import keras\n",
    "from keras.regularizers import l2, l1\n",
    "from tensorflow.keras import layers\n",
    "from tensorflow.keras import activations\n",
    "from tensorflow.keras import regularizers\n",
    "from keras.models import Sequential, Model\n",
    "from keras.layers import Conv2D, MaxPool2D, Dense, Dropout, Flatten, UpSampling2D\n",
    "import matplotlib.pyplot as plt"
   ]
  },
  {
   "cell_type": "markdown",
   "metadata": {},
   "source": [
    "## Run this first"
   ]
  },
  {
   "cell_type": "code",
   "execution_count": null,
   "metadata": {},
   "outputs": [],
   "source": [
    "!pip install keras==2.7.0 tensorflow==2.7.0 scikit-image"
   ]
  },
  {
   "cell_type": "code",
   "execution_count": null,
   "metadata": {},
   "outputs": [],
   "source": [
    "import ssl\n",
    "ssl._create_default_https_context = ssl._create_unverified_context\n",
    "_ = tf.keras.datasets.fashion_mnist.load_data()\n",
    "_ = tf.keras.datasets.cifar10.load_data()\n",
    "_ = tf.keras.datasets.cifar100.load_data()"
   ]
  },
  {
   "cell_type": "markdown",
   "metadata": {},
   "source": [
    "#### Different dataset this time"
   ]
  },
  {
   "cell_type": "code",
   "execution_count": 2,
   "metadata": {},
   "outputs": [],
   "source": [
    "(X_train, y_train), (X_test, y_test) = tf.keras.datasets.cifar10.load_data()"
   ]
  },
  {
   "cell_type": "code",
   "execution_count": 118,
   "metadata": {},
   "outputs": [],
   "source": [
    "classes = ['airplane', 'automobile', 'bird', 'cat', 'deer', 'dog', 'frog', 'horse', 'ship', 'truck']"
   ]
  },
  {
   "cell_type": "code",
   "execution_count": 121,
   "metadata": {},
   "outputs": [
    {
     "name": "stdout",
     "output_type": "stream",
     "text": [
      "frog\n"
     ]
    },
    {
     "data": {
      "image/png": "[encoded data removed]",
      "text/plain": [
       "<Figure size 432x288 with 1 Axes>"
      ]
     },
     "metadata": {
      "needs_background": "light"
     },
     "output_type": "display_data"
    }
   ],
   "source": [
    "print(classes[y_train[0][0]])\n",
    "plt.imshow(X_train[0])\n",
    "plt.show()"
   ]
  },
  {
   "cell_type": "markdown",
   "metadata": {},
   "source": [
    "### First run model from last meeting"
   ]
  },
  {
   "cell_type": "code",
   "execution_count": 74,
   "metadata": {},
   "outputs": [],
   "source": [
    "# kernel_regularizer = None\n",
    "# bias_regularizer = None\n",
    "kernel_regularizer = regularizers.l2(1e-5)\n",
    "bias_regularizer = regularizers.l2(1e-5)\n",
    "input_shape = X_train.shape[1:]\n",
    "\n",
    "mlp_model = tf.keras.Sequential([\n",
    "    tf.keras.layers.Flatten(input_shape = input_shape),\n",
    "    tf.keras.layers.Dense(128, activation = 'relu',\n",
    "                          kernel_regularizer=kernel_regularizer,\n",
    "                          bias_regularizer=bias_regularizer),\n",
    "    tf.keras.layers.BatchNormalization(),\n",
    "    tf.keras.layers.Dropout(0.1),\n",
    "    tf.keras.layers.Dense(64, activation='relu', kernel_regularizer=kernel_regularizer,\n",
    "                          bias_regularizer=bias_regularizer),\n",
    "    tf.keras.layers.BatchNormalization(),\n",
    "    tf.keras.layers.Dropout(0.1),\n",
    "    tf.keras.layers.Dense(10, activation = 'softmax', kernel_regularizer=kernel_regularizer,\n",
    "                          bias_regularizer=bias_regularizer)\n",
    "])"
   ]
  },
  {
   "cell_type": "code",
   "execution_count": 75,
   "metadata": {},
   "outputs": [],
   "source": [
    "mlp_model.compile(optimizer=tf.keras.optimizers.Adam(), loss=tf.keras.losses.SparseCategoricalCrossentropy(), metrics=['accuracy'])"
   ]
  },
  {
   "cell_type": "code",
   "execution_count": 76,
   "metadata": {},
   "outputs": [
    {
     "name": "stdout",
     "output_type": "stream",
     "text": [
      "Epoch 1/100\n",
      "391/391 [==============================] - 3s 7ms/step - loss: 1.8473 - accuracy: 0.3536 - val_loss: 2.0186 - val_accuracy: 0.3043\n",
      "Epoch 2/100\n",
      "391/391 [==============================] - 3s 6ms/step - loss: 1.6647 - accuracy: 0.4103 - val_loss: 2.0392 - val_accuracy: 0.2969\n",
      "Epoch 3/100\n",
      "391/391 [==============================] - 2s 6ms/step - loss: 1.5964 - accuracy: 0.4342 - val_loss: 1.5686 - val_accuracy: 0.4494\n",
      "Epoch 4/100\n",
      "391/391 [==============================] - 3s 6ms/step - loss: 1.5550 - accuracy: 0.4501 - val_loss: 1.5409 - val_accuracy: 0.4597\n",
      "Epoch 5/100\n",
      "391/391 [==============================] - 3s 6ms/step - loss: 1.5276 - accuracy: 0.4588 - val_loss: 1.6611 - val_accuracy: 0.4159\n",
      "Epoch 6/100\n",
      "391/391 [==============================] - 3s 6ms/step - loss: 1.5049 - accuracy: 0.4663 - val_loss: 1.5430 - val_accuracy: 0.4541\n",
      "Epoch 7/100\n",
      "391/391 [==============================] - 3s 6ms/step - loss: 1.4951 - accuracy: 0.4717 - val_loss: 1.5372 - val_accuracy: 0.4605\n",
      "Epoch 8/100\n",
      "391/391 [==============================] - 2s 6ms/step - loss: 1.4754 - accuracy: 0.4794 - val_loss: 1.5667 - val_accuracy: 0.4468\n",
      "Epoch 9/100\n",
      "391/391 [==============================] - 3s 6ms/step - loss: 1.4578 - accuracy: 0.4867 - val_loss: 1.9194 - val_accuracy: 0.3468\n",
      "Epoch 10/100\n",
      "391/391 [==============================] - 3s 6ms/step - loss: 1.4441 - accuracy: 0.4887 - val_loss: 1.5472 - val_accuracy: 0.4608\n",
      "Epoch 11/100\n",
      "391/391 [==============================] - 3s 6ms/step - loss: 1.4365 - accuracy: 0.4915 - val_loss: 1.5620 - val_accuracy: 0.4456\n",
      "Epoch 12/100\n",
      "391/391 [==============================] - 3s 7ms/step - loss: 1.4248 - accuracy: 0.4955 - val_loss: 1.7183 - val_accuracy: 0.4293\n"
     ]
    }
   ],
   "source": [
    "history = mlp_model.fit(X_train, y_train, batch_size=128, epochs=100, validation_data=(X_test, y_test), \n",
    "        callbacks=[tf.keras.callbacks.EarlyStopping(monitor='val_loss', patience=5, restore_best_weights=False)])"
   ]
  },
  {
   "cell_type": "code",
   "execution_count": 112,
   "metadata": {},
   "outputs": [
    {
     "name": "stdout",
     "output_type": "stream",
     "text": [
      "(32, 32, 3) (50000, 32, 32, 3) 10\n"
     ]
    }
   ],
   "source": [
    "input_shape = X_train.shape[1:]\n",
    "classes_cnt = len(np.unique(y_train))\n",
    "print(input_shape, X_train.shape, classes_cnt)\n",
    "cnn_model = Sequential()\n",
    "cnn_model.add(Conv2D(input_shape=input_shape, filters=4, kernel_size=(2, 2), padding='same', activation='relu'))\n",
    "cnn_model.add(MaxPool2D(pool_size=(2, 2)))\n",
    "cnn_model.add(Conv2D(input_shape=input_shape, filters=8, kernel_size=(2, 2), padding='same', activation='relu'))\n",
    "cnn_model.add(MaxPool2D(pool_size=(2, 2)))\n",
    "cnn_model.add(Flatten())\n",
    "cnn_model.add(Dense(32, activation='relu'))\n",
    "cnn_model.add(Dense(classes_cnt, activation='sigmoid'))"
   ]
  },
  {
   "cell_type": "code",
   "execution_count": 113,
   "metadata": {},
   "outputs": [],
   "source": [
    "cnn_model.compile(optimizer=tf.keras.optimizers.Adam(), loss=tf.keras.losses.SparseCategoricalCrossentropy(), metrics=['accuracy'])"
   ]
  },
  {
   "cell_type": "code",
   "execution_count": 114,
   "metadata": {},
   "outputs": [
    {
     "name": "stdout",
     "output_type": "stream",
     "text": [
      "Epoch 1/5\n",
      "391/391 [==============================] - 5s 12ms/step - loss: 2.1912 - accuracy: 0.2285 - val_loss: 1.8504 - val_accuracy: 0.3194\n",
      "Epoch 2/5\n",
      "391/391 [==============================] - 5s 12ms/step - loss: 1.7408 - accuracy: 0.3652 - val_loss: 1.6190 - val_accuracy: 0.4099\n",
      "Epoch 3/5\n",
      "391/391 [==============================] - 5s 12ms/step - loss: 1.5704 - accuracy: 0.4322 - val_loss: 1.5128 - val_accuracy: 0.4572\n",
      "Epoch 4/5\n",
      "391/391 [==============================] - 5s 12ms/step - loss: 1.4755 - accuracy: 0.4710 - val_loss: 1.4450 - val_accuracy: 0.4837\n",
      "Epoch 5/5\n",
      "391/391 [==============================] - 5s 12ms/step - loss: 1.3987 - accuracy: 0.5012 - val_loss: 1.3986 - val_accuracy: 0.5036\n"
     ]
    }
   ],
   "source": [
    "history = cnn_model.fit(X_train, y_train, batch_size=128, epochs=5, validation_data=(X_test, y_test))"
   ]
  },
  {
   "cell_type": "code",
   "execution_count": 115,
   "metadata": {},
   "outputs": [
    {
     "data": {
      "text/plain": [
       "(16934, 403018)"
      ]
     },
     "execution_count": 115,
     "metadata": {},
     "output_type": "execute_result"
    }
   ],
   "source": [
    "cnn_model.count_params(), mlp_model.count_params()"
   ]
  },
  {
   "cell_type": "code",
   "execution_count": null,
   "metadata": {},
   "outputs": [
    {
     "name": "stdout",
     "output_type": "stream",
     "text": [
      "(32, 32, 3) (50000, 32, 32, 3) 10\n"
     ]
    }
   ],
   "source": [
    "input_shape = X_train.shape[1:]\n",
    "classes_cnt = len(np.unique(y_train))\n",
    "print(input_shape, X_train.shape, classes_cnt)\n",
    "cnn_model = Sequential()\n",
    "cnn_model.add(Conv2D(input_shape=input_shape, filters=32, kernel_size=(2, 2), padding='same', activation='relu'))\n",
    "cnn_model.add(Conv2D(input_shape=input_shape, filters=32, kernel_size=(2, 2), padding='same', activation='relu'))\n",
    "cnn_model.add(MaxPool2D(pool_size=(2, 2)))\n",
    "cnn_model.add(Dropout(0.1))\n",
    "cnn_model.add(Conv2D(input_shape=input_shape, filters=32, kernel_size=(2, 2), padding='same', activation='relu'))\n",
    "cnn_model.add(Conv2D(input_shape=input_shape, filters=32, kernel_size=(2, 2), padding='same', activation='relu'))\n",
    "cnn_model.add(MaxPool2D(pool_size=(2, 2)))\n",
    "cnn_model.add(Flatten())\n",
    "cnn_model.add(Dropout(0.3))\n",
    "cnn_model.add(Dense(1024, activation='relu'))\n",
    "cnn_model.add(Dense(512, activation='relu'))\n",
    "cnn_model.add(Dropout(0.3))\n",
    "cnn_model.add(Dense(128, activation='relu'))\n",
    "cnn_model.add(Dense(32, activation='relu'))\n",
    "cnn_model.add(Dense(classes_cnt, activation='sigmoid'))"
   ]
  },
  {
   "cell_type": "code",
   "execution_count": null,
   "metadata": {},
   "outputs": [],
   "source": [
    "cnn_model.compile(optimizer=tf.keras.optimizers.Adam(), loss=tf.keras.losses.SparseCategoricalCrossentropy(), metrics=['accuracy'])"
   ]
  },
  {
   "cell_type": "code",
   "execution_count": null,
   "metadata": {},
   "outputs": [],
   "source": [
    "history = cnn_model.fit(X_train, y_train, batch_size=128, epochs=5, validation_data=(X_test, y_test))"
   ]
  },
  {
   "cell_type": "code",
   "execution_count": 101,
   "metadata": {},
   "outputs": [
    {
     "data": {
      "text/plain": [
       "(68130, 403018)"
      ]
     },
     "execution_count": 101,
     "metadata": {},
     "output_type": "execute_result"
    }
   ],
   "source": [
    "cnn_model.count_params(), mlp_model.count_params()"
   ]
  }
 ],
 "metadata": {
  "interpreter": {
   "hash": "961b6a872976a530e9eb1b75fdcd3f6fe3550ef1322ec7de01e1a8a6f96b7246"
  },
  "kernelspec": {
   "display_name": "Python 3.9.7 64-bit ('bootcamp_env': venv)",
   "language": "python",
   "name": "python3"
  },
  "language_info": {
   "codemirror_mode": {
    "name": "ipython",
    "version": 3
   },
   "file_extension": ".py",
   "mimetype": "text/x-python",
   "name": "python",
   "nbconvert_exporter": "python",
   "pygments_lexer": "ipython3",
   "version": "3.9.7"
  },
  "orig_nbformat": 4
 },
 "nbformat": 4,
 "nbformat_minor": 2
}
