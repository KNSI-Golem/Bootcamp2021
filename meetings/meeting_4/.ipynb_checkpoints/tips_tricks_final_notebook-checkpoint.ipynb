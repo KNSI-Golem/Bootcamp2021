{
 "cells": [
  {
   "cell_type": "code",
   "execution_count": 7,
   "id": "b00b5d52",
   "metadata": {},
   "outputs": [],
   "source": [
    "import pandas as pd\n",
    "import numpy as np\n",
    "\n",
    "from sklearn.linear_model import LogisticRegression\n",
    "\n",
    "# Wisienka na koniec\n",
    "from sklearn.tree import DecisionTreeClassifier\n",
    "\n",
    "# Visualization\n",
    "import matplotlib.pyplot as plt\n",
    "import seaborn as sns\n",
    "\n",
    "# Warnings will not pass!\n",
    "import warnings\n",
    "warnings.filterwarnings('ignore')"
   ]
  },
  {
   "cell_type": "markdown",
   "id": "4b43cba0",
   "metadata": {},
   "source": [
    "### Importing data and initial look into it"
   ]
  },
  {
   "cell_type": "code",
   "execution_count": null,
   "id": "a51c2ac1",
   "metadata": {},
   "outputs": [],
   "source": []
  },
  {
   "cell_type": "markdown",
   "id": "d6f456d3",
   "metadata": {},
   "source": [
    "### TODO: Dummy train"
   ]
  },
  {
   "cell_type": "code",
   "execution_count": null,
   "id": "381ea0d0",
   "metadata": {},
   "outputs": [],
   "source": []
  },
  {
   "cell_type": "markdown",
   "id": "931aa719",
   "metadata": {},
   "source": [
    "### TODO: We can do better meme"
   ]
  },
  {
   "cell_type": "code",
   "execution_count": null,
   "id": "b335eb78",
   "metadata": {},
   "outputs": [],
   "source": []
  },
  {
   "cell_type": "markdown",
   "id": "0916850b",
   "metadata": {},
   "source": [
    "### TODO: Sklearn - not only for learning"
   ]
  },
  {
   "cell_type": "code",
   "execution_count": null,
   "id": "da471bb8",
   "metadata": {},
   "outputs": [],
   "source": []
  },
  {
   "cell_type": "markdown",
   "id": "6f01b762",
   "metadata": {},
   "source": [
    "### TODO: Splitting datasets - why the heck is that"
   ]
  },
  {
   "cell_type": "code",
   "execution_count": null,
   "id": "5b9e26a7",
   "metadata": {},
   "outputs": [],
   "source": []
  },
  {
   "cell_type": "markdown",
   "id": "3efd64ef",
   "metadata": {},
   "source": [
    "### TODO: Common sence cleaning"
   ]
  },
  {
   "cell_type": "code",
   "execution_count": null,
   "id": "b645715e",
   "metadata": {},
   "outputs": [],
   "source": []
  },
  {
   "cell_type": "markdown",
   "id": "b640aa26",
   "metadata": {},
   "source": [
    "### TODO: Encoding"
   ]
  },
  {
   "cell_type": "code",
   "execution_count": null,
   "id": "c7872859",
   "metadata": {},
   "outputs": [],
   "source": []
  },
  {
   "cell_type": "markdown",
   "id": "5be64e0e",
   "metadata": {},
   "source": [
    "#### TODO: Label encoding (Ordinal)"
   ]
  },
  {
   "cell_type": "code",
   "execution_count": null,
   "id": "19bb3751",
   "metadata": {},
   "outputs": [],
   "source": []
  },
  {
   "cell_type": "markdown",
   "id": "ac5403b6",
   "metadata": {},
   "source": [
    "#### TODO: One Hot Encoding"
   ]
  },
  {
   "cell_type": "code",
   "execution_count": null,
   "id": "3269d465",
   "metadata": {},
   "outputs": [],
   "source": []
  },
  {
   "cell_type": "markdown",
   "id": "09d4d36b",
   "metadata": {},
   "source": [
    "### TODO: Scaling"
   ]
  },
  {
   "cell_type": "code",
   "execution_count": null,
   "id": "606d18da",
   "metadata": {},
   "outputs": [],
   "source": []
  },
  {
   "cell_type": "code",
   "execution_count": null,
   "id": "f9eee777",
   "metadata": {},
   "outputs": [],
   "source": []
  },
  {
   "cell_type": "markdown",
   "id": "2050b7ee",
   "metadata": {},
   "source": [
    "### TODO: Maybe some advanced feature engineering?"
   ]
  },
  {
   "cell_type": "code",
   "execution_count": null,
   "id": "f320b05a",
   "metadata": {},
   "outputs": [],
   "source": []
  },
  {
   "cell_type": "markdown",
   "id": "7ca9978f",
   "metadata": {},
   "source": [
    "### TODO: Step back meme"
   ]
  },
  {
   "cell_type": "code",
   "execution_count": null,
   "id": "ef929a30",
   "metadata": {},
   "outputs": [],
   "source": []
  },
  {
   "cell_type": "markdown",
   "id": "25e3ae1b",
   "metadata": {},
   "source": [
    "### TODO: Cross validation and hyperparameter tuning on SVM\n",
    "Since LogisticRegression doesn't give you much hyperparameters to tune.\n"
   ]
  },
  {
   "cell_type": "code",
   "execution_count": null,
   "id": "b3bb9c5e",
   "metadata": {},
   "outputs": [],
   "source": []
  },
  {
   "cell_type": "markdown",
   "id": "82dc037e",
   "metadata": {},
   "source": [
    "### TODO: Function to apply all of these things to test dataset"
   ]
  },
  {
   "cell_type": "code",
   "execution_count": null,
   "id": "ba0da1fb",
   "metadata": {},
   "outputs": [],
   "source": []
  }
 ],
 "metadata": {
  "kernelspec": {
   "display_name": "Python 3 (ipykernel)",
   "language": "python",
   "name": "python3"
  },
  "language_info": {
   "codemirror_mode": {
    "name": "ipython",
    "version": 3
   },
   "file_extension": ".py",
   "mimetype": "text/x-python",
   "name": "python",
   "nbconvert_exporter": "python",
   "pygments_lexer": "ipython3",
   "version": "3.7.11"
  }
 },
 "nbformat": 4,
 "nbformat_minor": 5
}
