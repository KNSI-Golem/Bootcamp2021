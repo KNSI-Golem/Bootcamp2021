{
 "cells": [
  {
   "cell_type": "code",
   "execution_count": null,
   "id": "073aff22",
   "metadata": {},
   "outputs": [],
   "source": [
    "import pandas as pd\n",
    "import numpy as np\n",
    "\n",
    "from evaluator import evaluate_data"
   ]
  },
  {
   "cell_type": "code",
   "execution_count": 2,
   "id": "4df833b1",
   "metadata": {},
   "outputs": [],
   "source": [
    "# TODO: create a script where they doesn't see the model, but only pass prepared data"
   ]
  }
 ],
 "metadata": {
  "kernelspec": {
   "display_name": "Python 3 (ipykernel)",
   "language": "python",
   "name": "python3"
  },
  "language_info": {
   "codemirror_mode": {
    "name": "ipython",
    "version": 3
   },
   "file_extension": ".py",
   "mimetype": "text/x-python",
   "name": "python",
   "nbconvert_exporter": "python",
   "pygments_lexer": "ipython3",
   "version": "3.7.11"
  }
 },
 "nbformat": 4,
 "nbformat_minor": 5
}
