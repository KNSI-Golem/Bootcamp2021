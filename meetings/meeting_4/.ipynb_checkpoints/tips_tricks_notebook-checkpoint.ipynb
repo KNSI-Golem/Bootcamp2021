{
 "cells": [
  {
   "cell_type": "code",
   "execution_count": 37,
   "id": "e344d07f",
   "metadata": {},
   "outputs": [],
   "source": [
    "import pandas as pd\n",
    "import numpy as np\n",
    "\n",
    "import matplotlib.pyplot as plt\n",
    "\n",
    "\n",
    "from sklearn.model_selection import train_test_split\n",
    "from sklearn.metrics import accuracy_score\n",
    "\n",
    "# Preprocessing\n",
    "from sklearn.preprocessing import OrdinalEncoder\n",
    "from sklearn.preprocessing import OneHotEncoder\n",
    "\n",
    "# Model\n",
    "from sklearn.linear_model import LogisticRegression\n",
    "\n",
    "from helpers import get_score"
   ]
  },
  {
   "cell_type": "markdown",
   "id": "7997be96",
   "metadata": {},
   "source": [
    "### Ładujemy z pliku dataset"
   ]
  },
  {
   "cell_type": "code",
   "execution_count": 38,
   "id": "b33d5ad6",
   "metadata": {},
   "outputs": [
    {
     "data": {
      "text/html": [
       "<div>\n",
       "<style scoped>\n",
       "    .dataframe tbody tr th:only-of-type {\n",
       "        vertical-align: middle;\n",
       "    }\n",
       "\n",
       "    .dataframe tbody tr th {\n",
       "        vertical-align: top;\n",
       "    }\n",
       "\n",
       "    .dataframe thead th {\n",
       "        text-align: right;\n",
       "    }\n",
       "</style>\n",
       "<table border=\"1\" class=\"dataframe\">\n",
       "  <thead>\n",
       "    <tr style=\"text-align: right;\">\n",
       "      <th></th>\n",
       "      <th>age</th>\n",
       "      <th>height</th>\n",
       "      <th>weight</th>\n",
       "      <th>ap_hi</th>\n",
       "      <th>ap_lo</th>\n",
       "      <th>gender</th>\n",
       "      <th>cholesterol</th>\n",
       "      <th>glucose</th>\n",
       "      <th>lifestyle</th>\n",
       "      <th>is_cardio_ill</th>\n",
       "    </tr>\n",
       "  </thead>\n",
       "  <tbody>\n",
       "    <tr>\n",
       "      <th>0</th>\n",
       "      <td>19546</td>\n",
       "      <td>158.0</td>\n",
       "      <td>76.0</td>\n",
       "      <td>150</td>\n",
       "      <td>90</td>\n",
       "      <td>female</td>\n",
       "      <td>normal</td>\n",
       "      <td>normal</td>\n",
       "      <td>NaN</td>\n",
       "      <td>1</td>\n",
       "    </tr>\n",
       "    <tr>\n",
       "      <th>1</th>\n",
       "      <td>17650</td>\n",
       "      <td>169.0</td>\n",
       "      <td>72.0</td>\n",
       "      <td>120</td>\n",
       "      <td>80</td>\n",
       "      <td>male</td>\n",
       "      <td>normal</td>\n",
       "      <td>way above normal</td>\n",
       "      <td>active</td>\n",
       "      <td>0</td>\n",
       "    </tr>\n",
       "    <tr>\n",
       "      <th>2</th>\n",
       "      <td>18960</td>\n",
       "      <td>157.0</td>\n",
       "      <td>53.0</td>\n",
       "      <td>120</td>\n",
       "      <td>70</td>\n",
       "      <td>female</td>\n",
       "      <td>normal</td>\n",
       "      <td>normal</td>\n",
       "      <td>active</td>\n",
       "      <td>0</td>\n",
       "    </tr>\n",
       "    <tr>\n",
       "      <th>3</th>\n",
       "      <td>21213</td>\n",
       "      <td>154.0</td>\n",
       "      <td>62.0</td>\n",
       "      <td>150</td>\n",
       "      <td>90</td>\n",
       "      <td>male</td>\n",
       "      <td>way above normal</td>\n",
       "      <td>way above normal</td>\n",
       "      <td>active</td>\n",
       "      <td>0</td>\n",
       "    </tr>\n",
       "    <tr>\n",
       "      <th>4</th>\n",
       "      <td>18491</td>\n",
       "      <td>165.0</td>\n",
       "      <td>65.0</td>\n",
       "      <td>120</td>\n",
       "      <td>80</td>\n",
       "      <td>female</td>\n",
       "      <td>normal</td>\n",
       "      <td>normal</td>\n",
       "      <td>active</td>\n",
       "      <td>0</td>\n",
       "    </tr>\n",
       "  </tbody>\n",
       "</table>\n",
       "</div>"
      ],
      "text/plain": [
       "     age  height  weight  ap_hi  ap_lo  gender       cholesterol  \\\n",
       "0  19546   158.0    76.0    150     90  female            normal   \n",
       "1  17650   169.0    72.0    120     80    male            normal   \n",
       "2  18960   157.0    53.0    120     70  female            normal   \n",
       "3  21213   154.0    62.0    150     90    male  way above normal   \n",
       "4  18491   165.0    65.0    120     80  female            normal   \n",
       "\n",
       "            glucose lifestyle  is_cardio_ill  \n",
       "0            normal       NaN              1  \n",
       "1  way above normal    active              0  \n",
       "2            normal    active              0  \n",
       "3  way above normal    active              0  \n",
       "4            normal    active              0  "
      ]
     },
     "execution_count": 38,
     "metadata": {},
     "output_type": "execute_result"
    }
   ],
   "source": [
    "data_train = pd.read_csv(\"data/train_data.csv\")\n",
    "data_test = pd.read_csv(\"data/test_data.csv\")\n",
    "cardio_data.head()"
   ]
  },
  {
   "cell_type": "markdown",
   "id": "eede3e4e",
   "metadata": {},
   "source": [
    "### Co przewidujemy?"
   ]
  },
  {
   "cell_type": "code",
   "execution_count": 39,
   "id": "4fe76f69",
   "metadata": {},
   "outputs": [
    {
     "data": {
      "text/plain": [
       "1    10507\n",
       "0    10493\n",
       "Name: is_cardio_ill, dtype: int64"
      ]
     },
     "execution_count": 39,
     "metadata": {},
     "output_type": "execute_result"
    }
   ],
   "source": [
    "data_train.is_cardio_ill.value_counts()"
   ]
  },
  {
   "cell_type": "markdown",
   "id": "151e9c88",
   "metadata": {},
   "source": [
    "Widzimy, że klasy są raczej zbalansowane, więc możemy tu użyć **accuracy_score**."
   ]
  },
  {
   "cell_type": "markdown",
   "id": "d85075e4",
   "metadata": {},
   "source": [
    "### TODO: Drop missing values there"
   ]
  },
  {
   "cell_type": "markdown",
   "id": "275f7e1c",
   "metadata": {},
   "source": [
    "### Co będzie, jeśli od razu coś wytrenujemy?"
   ]
  },
  {
   "cell_type": "markdown",
   "id": "41540c48",
   "metadata": {},
   "source": [
    "Skoro nasza regresja logistyczna nie działa z wartościami tekstowymi, na razie nie bierzmy ich pod uwagę."
   ]
  },
  {
   "cell_type": "code",
   "execution_count": 40,
   "id": "03229111",
   "metadata": {},
   "outputs": [],
   "source": [
    "numeric_cardio_data = cardio_data.drop(\n",
    "    ['cholesterol', 'glucose', 'lifestyle', \"gender\"],\n",
    "    axis=1\n",
    ")"
   ]
  },
  {
   "cell_type": "code",
   "execution_count": 41,
   "id": "c78a8972",
   "metadata": {},
   "outputs": [
    {
     "data": {
      "text/html": [
       "<div>\n",
       "<style scoped>\n",
       "    .dataframe tbody tr th:only-of-type {\n",
       "        vertical-align: middle;\n",
       "    }\n",
       "\n",
       "    .dataframe tbody tr th {\n",
       "        vertical-align: top;\n",
       "    }\n",
       "\n",
       "    .dataframe thead th {\n",
       "        text-align: right;\n",
       "    }\n",
       "</style>\n",
       "<table border=\"1\" class=\"dataframe\">\n",
       "  <thead>\n",
       "    <tr style=\"text-align: right;\">\n",
       "      <th></th>\n",
       "      <th>age</th>\n",
       "      <th>height</th>\n",
       "      <th>weight</th>\n",
       "      <th>ap_hi</th>\n",
       "      <th>ap_lo</th>\n",
       "      <th>is_cardio_ill</th>\n",
       "    </tr>\n",
       "  </thead>\n",
       "  <tbody>\n",
       "    <tr>\n",
       "      <th>0</th>\n",
       "      <td>19546</td>\n",
       "      <td>158.0</td>\n",
       "      <td>76.0</td>\n",
       "      <td>150</td>\n",
       "      <td>90</td>\n",
       "      <td>1</td>\n",
       "    </tr>\n",
       "    <tr>\n",
       "      <th>1</th>\n",
       "      <td>17650</td>\n",
       "      <td>169.0</td>\n",
       "      <td>72.0</td>\n",
       "      <td>120</td>\n",
       "      <td>80</td>\n",
       "      <td>0</td>\n",
       "    </tr>\n",
       "    <tr>\n",
       "      <th>2</th>\n",
       "      <td>18960</td>\n",
       "      <td>157.0</td>\n",
       "      <td>53.0</td>\n",
       "      <td>120</td>\n",
       "      <td>70</td>\n",
       "      <td>0</td>\n",
       "    </tr>\n",
       "    <tr>\n",
       "      <th>3</th>\n",
       "      <td>21213</td>\n",
       "      <td>154.0</td>\n",
       "      <td>62.0</td>\n",
       "      <td>150</td>\n",
       "      <td>90</td>\n",
       "      <td>0</td>\n",
       "    </tr>\n",
       "    <tr>\n",
       "      <th>4</th>\n",
       "      <td>18491</td>\n",
       "      <td>165.0</td>\n",
       "      <td>65.0</td>\n",
       "      <td>120</td>\n",
       "      <td>80</td>\n",
       "      <td>0</td>\n",
       "    </tr>\n",
       "  </tbody>\n",
       "</table>\n",
       "</div>"
      ],
      "text/plain": [
       "     age  height  weight  ap_hi  ap_lo  is_cardio_ill\n",
       "0  19546   158.0    76.0    150     90              1\n",
       "1  17650   169.0    72.0    120     80              0\n",
       "2  18960   157.0    53.0    120     70              0\n",
       "3  21213   154.0    62.0    150     90              0\n",
       "4  18491   165.0    65.0    120     80              0"
      ]
     },
     "execution_count": 41,
     "metadata": {},
     "output_type": "execute_result"
    }
   ],
   "source": [
    "numeric_cardio_data.head()"
   ]
  },
  {
   "cell_type": "code",
   "execution_count": 44,
   "id": "42d2370b",
   "metadata": {},
   "outputs": [],
   "source": [
    "train_X, val_X, train_y, val_y = train_test_split(\n",
    "    numeric_cardio_data.drop(\"is_cardio_ill\", axis=1),\n",
    "    numeric_cardio_data['is_cardio_ill'],\n",
    "    test_size=0.2\n",
    ")"
   ]
  },
  {
   "cell_type": "code",
   "execution_count": 45,
   "id": "8bb8bdf1",
   "metadata": {},
   "outputs": [
    {
     "ename": "ValueError",
     "evalue": "Input contains NaN, infinity or a value too large for dtype('float64').",
     "output_type": "error",
     "traceback": [
      "\u001b[1;31m---------------------------------------------------------------------------\u001b[0m",
      "\u001b[1;31mValueError\u001b[0m                                Traceback (most recent call last)",
      "\u001b[1;32m~\\AppData\\Local\\Temp/ipykernel_19696/778250159.py\u001b[0m in \u001b[0;36m<module>\u001b[1;34m\u001b[0m\n\u001b[0;32m      1\u001b[0m \u001b[0mbaseline_model\u001b[0m \u001b[1;33m=\u001b[0m \u001b[0mLogisticRegression\u001b[0m\u001b[1;33m(\u001b[0m\u001b[1;33m)\u001b[0m\u001b[1;33m\u001b[0m\u001b[1;33m\u001b[0m\u001b[0m\n\u001b[0;32m      2\u001b[0m \u001b[1;33m\u001b[0m\u001b[0m\n\u001b[1;32m----> 3\u001b[1;33m \u001b[0mbaseline_model\u001b[0m\u001b[1;33m.\u001b[0m\u001b[0mfit\u001b[0m\u001b[1;33m(\u001b[0m\u001b[0mtrain_X\u001b[0m\u001b[1;33m,\u001b[0m \u001b[0mtrain_y\u001b[0m\u001b[1;33m)\u001b[0m\u001b[1;33m\u001b[0m\u001b[1;33m\u001b[0m\u001b[0m\n\u001b[0m\u001b[0;32m      4\u001b[0m \u001b[0mbaseline_preds\u001b[0m \u001b[1;33m=\u001b[0m \u001b[0mbaseline_model\u001b[0m\u001b[1;33m.\u001b[0m\u001b[0mpredict\u001b[0m\u001b[1;33m(\u001b[0m\u001b[0mtest_X\u001b[0m\u001b[1;33m)\u001b[0m\u001b[1;33m\u001b[0m\u001b[1;33m\u001b[0m\u001b[0m\n\u001b[0;32m      5\u001b[0m \u001b[1;33m\u001b[0m\u001b[0m\n",
      "\u001b[1;32mA:\\Anaconda\\envs\\neuron\\lib\\site-packages\\sklearn\\linear_model\\_logistic.py\u001b[0m in \u001b[0;36mfit\u001b[1;34m(self, X, y, sample_weight)\u001b[0m\n\u001b[0;32m   1344\u001b[0m         X, y = self._validate_data(X, y, accept_sparse='csr', dtype=_dtype,\n\u001b[0;32m   1345\u001b[0m                                    \u001b[0morder\u001b[0m\u001b[1;33m=\u001b[0m\u001b[1;34m\"C\"\u001b[0m\u001b[1;33m,\u001b[0m\u001b[1;33m\u001b[0m\u001b[1;33m\u001b[0m\u001b[0m\n\u001b[1;32m-> 1346\u001b[1;33m                                    accept_large_sparse=solver != 'liblinear')\n\u001b[0m\u001b[0;32m   1347\u001b[0m         \u001b[0mcheck_classification_targets\u001b[0m\u001b[1;33m(\u001b[0m\u001b[0my\u001b[0m\u001b[1;33m)\u001b[0m\u001b[1;33m\u001b[0m\u001b[1;33m\u001b[0m\u001b[0m\n\u001b[0;32m   1348\u001b[0m         \u001b[0mself\u001b[0m\u001b[1;33m.\u001b[0m\u001b[0mclasses_\u001b[0m \u001b[1;33m=\u001b[0m \u001b[0mnp\u001b[0m\u001b[1;33m.\u001b[0m\u001b[0munique\u001b[0m\u001b[1;33m(\u001b[0m\u001b[0my\u001b[0m\u001b[1;33m)\u001b[0m\u001b[1;33m\u001b[0m\u001b[1;33m\u001b[0m\u001b[0m\n",
      "\u001b[1;32mA:\\Anaconda\\envs\\neuron\\lib\\site-packages\\sklearn\\base.py\u001b[0m in \u001b[0;36m_validate_data\u001b[1;34m(self, X, y, reset, validate_separately, **check_params)\u001b[0m\n\u001b[0;32m    431\u001b[0m                 \u001b[0my\u001b[0m \u001b[1;33m=\u001b[0m \u001b[0mcheck_array\u001b[0m\u001b[1;33m(\u001b[0m\u001b[0my\u001b[0m\u001b[1;33m,\u001b[0m \u001b[1;33m**\u001b[0m\u001b[0mcheck_y_params\u001b[0m\u001b[1;33m)\u001b[0m\u001b[1;33m\u001b[0m\u001b[1;33m\u001b[0m\u001b[0m\n\u001b[0;32m    432\u001b[0m             \u001b[1;32melse\u001b[0m\u001b[1;33m:\u001b[0m\u001b[1;33m\u001b[0m\u001b[1;33m\u001b[0m\u001b[0m\n\u001b[1;32m--> 433\u001b[1;33m                 \u001b[0mX\u001b[0m\u001b[1;33m,\u001b[0m \u001b[0my\u001b[0m \u001b[1;33m=\u001b[0m \u001b[0mcheck_X_y\u001b[0m\u001b[1;33m(\u001b[0m\u001b[0mX\u001b[0m\u001b[1;33m,\u001b[0m \u001b[0my\u001b[0m\u001b[1;33m,\u001b[0m \u001b[1;33m**\u001b[0m\u001b[0mcheck_params\u001b[0m\u001b[1;33m)\u001b[0m\u001b[1;33m\u001b[0m\u001b[1;33m\u001b[0m\u001b[0m\n\u001b[0m\u001b[0;32m    434\u001b[0m             \u001b[0mout\u001b[0m \u001b[1;33m=\u001b[0m \u001b[0mX\u001b[0m\u001b[1;33m,\u001b[0m \u001b[0my\u001b[0m\u001b[1;33m\u001b[0m\u001b[1;33m\u001b[0m\u001b[0m\n\u001b[0;32m    435\u001b[0m \u001b[1;33m\u001b[0m\u001b[0m\n",
      "\u001b[1;32mA:\\Anaconda\\envs\\neuron\\lib\\site-packages\\sklearn\\utils\\validation.py\u001b[0m in \u001b[0;36minner_f\u001b[1;34m(*args, **kwargs)\u001b[0m\n\u001b[0;32m     61\u001b[0m             \u001b[0mextra_args\u001b[0m \u001b[1;33m=\u001b[0m \u001b[0mlen\u001b[0m\u001b[1;33m(\u001b[0m\u001b[0margs\u001b[0m\u001b[1;33m)\u001b[0m \u001b[1;33m-\u001b[0m \u001b[0mlen\u001b[0m\u001b[1;33m(\u001b[0m\u001b[0mall_args\u001b[0m\u001b[1;33m)\u001b[0m\u001b[1;33m\u001b[0m\u001b[1;33m\u001b[0m\u001b[0m\n\u001b[0;32m     62\u001b[0m             \u001b[1;32mif\u001b[0m \u001b[0mextra_args\u001b[0m \u001b[1;33m<=\u001b[0m \u001b[1;36m0\u001b[0m\u001b[1;33m:\u001b[0m\u001b[1;33m\u001b[0m\u001b[1;33m\u001b[0m\u001b[0m\n\u001b[1;32m---> 63\u001b[1;33m                 \u001b[1;32mreturn\u001b[0m \u001b[0mf\u001b[0m\u001b[1;33m(\u001b[0m\u001b[1;33m*\u001b[0m\u001b[0margs\u001b[0m\u001b[1;33m,\u001b[0m \u001b[1;33m**\u001b[0m\u001b[0mkwargs\u001b[0m\u001b[1;33m)\u001b[0m\u001b[1;33m\u001b[0m\u001b[1;33m\u001b[0m\u001b[0m\n\u001b[0m\u001b[0;32m     64\u001b[0m \u001b[1;33m\u001b[0m\u001b[0m\n\u001b[0;32m     65\u001b[0m             \u001b[1;31m# extra_args > 0\u001b[0m\u001b[1;33m\u001b[0m\u001b[1;33m\u001b[0m\u001b[1;33m\u001b[0m\u001b[0m\n",
      "\u001b[1;32mA:\\Anaconda\\envs\\neuron\\lib\\site-packages\\sklearn\\utils\\validation.py\u001b[0m in \u001b[0;36mcheck_X_y\u001b[1;34m(X, y, accept_sparse, accept_large_sparse, dtype, order, copy, force_all_finite, ensure_2d, allow_nd, multi_output, ensure_min_samples, ensure_min_features, y_numeric, estimator)\u001b[0m\n\u001b[0;32m    876\u001b[0m                     \u001b[0mensure_min_samples\u001b[0m\u001b[1;33m=\u001b[0m\u001b[0mensure_min_samples\u001b[0m\u001b[1;33m,\u001b[0m\u001b[1;33m\u001b[0m\u001b[1;33m\u001b[0m\u001b[0m\n\u001b[0;32m    877\u001b[0m                     \u001b[0mensure_min_features\u001b[0m\u001b[1;33m=\u001b[0m\u001b[0mensure_min_features\u001b[0m\u001b[1;33m,\u001b[0m\u001b[1;33m\u001b[0m\u001b[1;33m\u001b[0m\u001b[0m\n\u001b[1;32m--> 878\u001b[1;33m                     estimator=estimator)\n\u001b[0m\u001b[0;32m    879\u001b[0m     \u001b[1;32mif\u001b[0m \u001b[0mmulti_output\u001b[0m\u001b[1;33m:\u001b[0m\u001b[1;33m\u001b[0m\u001b[1;33m\u001b[0m\u001b[0m\n\u001b[0;32m    880\u001b[0m         y = check_array(y, accept_sparse='csr', force_all_finite=True,\n",
      "\u001b[1;32mA:\\Anaconda\\envs\\neuron\\lib\\site-packages\\sklearn\\utils\\validation.py\u001b[0m in \u001b[0;36minner_f\u001b[1;34m(*args, **kwargs)\u001b[0m\n\u001b[0;32m     61\u001b[0m             \u001b[0mextra_args\u001b[0m \u001b[1;33m=\u001b[0m \u001b[0mlen\u001b[0m\u001b[1;33m(\u001b[0m\u001b[0margs\u001b[0m\u001b[1;33m)\u001b[0m \u001b[1;33m-\u001b[0m \u001b[0mlen\u001b[0m\u001b[1;33m(\u001b[0m\u001b[0mall_args\u001b[0m\u001b[1;33m)\u001b[0m\u001b[1;33m\u001b[0m\u001b[1;33m\u001b[0m\u001b[0m\n\u001b[0;32m     62\u001b[0m             \u001b[1;32mif\u001b[0m \u001b[0mextra_args\u001b[0m \u001b[1;33m<=\u001b[0m \u001b[1;36m0\u001b[0m\u001b[1;33m:\u001b[0m\u001b[1;33m\u001b[0m\u001b[1;33m\u001b[0m\u001b[0m\n\u001b[1;32m---> 63\u001b[1;33m                 \u001b[1;32mreturn\u001b[0m \u001b[0mf\u001b[0m\u001b[1;33m(\u001b[0m\u001b[1;33m*\u001b[0m\u001b[0margs\u001b[0m\u001b[1;33m,\u001b[0m \u001b[1;33m**\u001b[0m\u001b[0mkwargs\u001b[0m\u001b[1;33m)\u001b[0m\u001b[1;33m\u001b[0m\u001b[1;33m\u001b[0m\u001b[0m\n\u001b[0m\u001b[0;32m     64\u001b[0m \u001b[1;33m\u001b[0m\u001b[0m\n\u001b[0;32m     65\u001b[0m             \u001b[1;31m# extra_args > 0\u001b[0m\u001b[1;33m\u001b[0m\u001b[1;33m\u001b[0m\u001b[1;33m\u001b[0m\u001b[0m\n",
      "\u001b[1;32mA:\\Anaconda\\envs\\neuron\\lib\\site-packages\\sklearn\\utils\\validation.py\u001b[0m in \u001b[0;36mcheck_array\u001b[1;34m(array, accept_sparse, accept_large_sparse, dtype, order, copy, force_all_finite, ensure_2d, allow_nd, ensure_min_samples, ensure_min_features, estimator)\u001b[0m\n\u001b[0;32m    719\u001b[0m         \u001b[1;32mif\u001b[0m \u001b[0mforce_all_finite\u001b[0m\u001b[1;33m:\u001b[0m\u001b[1;33m\u001b[0m\u001b[1;33m\u001b[0m\u001b[0m\n\u001b[0;32m    720\u001b[0m             _assert_all_finite(array,\n\u001b[1;32m--> 721\u001b[1;33m                                allow_nan=force_all_finite == 'allow-nan')\n\u001b[0m\u001b[0;32m    722\u001b[0m \u001b[1;33m\u001b[0m\u001b[0m\n\u001b[0;32m    723\u001b[0m     \u001b[1;32mif\u001b[0m \u001b[0mensure_min_samples\u001b[0m \u001b[1;33m>\u001b[0m \u001b[1;36m0\u001b[0m\u001b[1;33m:\u001b[0m\u001b[1;33m\u001b[0m\u001b[1;33m\u001b[0m\u001b[0m\n",
      "\u001b[1;32mA:\\Anaconda\\envs\\neuron\\lib\\site-packages\\sklearn\\utils\\validation.py\u001b[0m in \u001b[0;36m_assert_all_finite\u001b[1;34m(X, allow_nan, msg_dtype)\u001b[0m\n\u001b[0;32m    104\u001b[0m                     \u001b[0mmsg_err\u001b[0m\u001b[1;33m.\u001b[0m\u001b[0mformat\u001b[0m\u001b[1;33m\u001b[0m\u001b[1;33m\u001b[0m\u001b[0m\n\u001b[0;32m    105\u001b[0m                     (type_err,\n\u001b[1;32m--> 106\u001b[1;33m                      msg_dtype if msg_dtype is not None else X.dtype)\n\u001b[0m\u001b[0;32m    107\u001b[0m             )\n\u001b[0;32m    108\u001b[0m     \u001b[1;31m# for object dtype data, we only check for NaNs (GH-13254)\u001b[0m\u001b[1;33m\u001b[0m\u001b[1;33m\u001b[0m\u001b[1;33m\u001b[0m\u001b[0m\n",
      "\u001b[1;31mValueError\u001b[0m: Input contains NaN, infinity or a value too large for dtype('float64')."
     ]
    }
   ],
   "source": [
    "baseline_model = LogisticRegression()\n",
    "\n",
    "baseline_model.fit(train_X, train_y)\n",
    "baseline_preds = baseline_model.predict(test_X)\n",
    "\n",
    "acc = accuracy_score(test_y, baseline_preds)\n",
    "print(f\"Accuracy score: {round(100 * acc, 2)} %\")"
   ]
  },
  {
   "cell_type": "markdown",
   "id": "f341b0de",
   "metadata": {},
   "source": [
    "### Not bad, but can we do better?"
   ]
  },
  {
   "cell_type": "markdown",
   "id": "af5908b7",
   "metadata": {},
   "source": [
    "<img src=\"https://i.pinimg.com/736x/a8/ef/58/a8ef58e480da3676dc81f0ffc191807b--swimmer-girl-problems-jeep-humor.jpg\" width=400 height=400 />"
   ]
  },
  {
   "cell_type": "markdown",
   "id": "d4af630b",
   "metadata": {},
   "source": [
    "# Exploratory Data Analysis (EDA)"
   ]
  },
  {
   "cell_type": "code",
   "execution_count": null,
   "id": "99ebd630",
   "metadata": {},
   "outputs": [],
   "source": [
    "# TODO: What is it and how it is used?"
   ]
  },
  {
   "cell_type": "markdown",
   "id": "577bb12d",
   "metadata": {},
   "source": [
    "### Jakie widzimy tutaj typy atrybutów?"
   ]
  },
  {
   "cell_type": "code",
   "execution_count": 2,
   "id": "d800a342",
   "metadata": {},
   "outputs": [
    {
     "ename": "NameError",
     "evalue": "name 'cardio_data' is not defined",
     "output_type": "error",
     "traceback": [
      "\u001b[1;31m---------------------------------------------------------------------------\u001b[0m",
      "\u001b[1;31mNameError\u001b[0m                                 Traceback (most recent call last)",
      "\u001b[1;32m~\\AppData\\Local\\Temp/ipykernel_19696/3451168806.py\u001b[0m in \u001b[0;36m<module>\u001b[1;34m\u001b[0m\n\u001b[1;32m----> 1\u001b[1;33m \u001b[0mcardio_data\u001b[0m\u001b[1;33m.\u001b[0m\u001b[0mdtypes\u001b[0m\u001b[1;33m\u001b[0m\u001b[1;33m\u001b[0m\u001b[0m\n\u001b[0m",
      "\u001b[1;31mNameError\u001b[0m: name 'cardio_data' is not defined"
     ]
    }
   ],
   "source": [
    "cardio_data.dtypes"
   ]
  },
  {
   "cell_type": "code",
   "execution_count": null,
   "id": "aa5147dd",
   "metadata": {},
   "outputs": [],
   "source": [
    "numeric_features = ['age', 'height', 'weight', 'ap_hi', 'ap_lo']\n",
    "categorical_features = [\"cholesterol\", \"glucose\", \"lifestyle\"]"
   ]
  },
  {
   "cell_type": "code",
   "execution_count": null,
   "id": "5f9c2fd3",
   "metadata": {},
   "outputs": [],
   "source": [
    "cardio_data.info()"
   ]
  },
  {
   "cell_type": "code",
   "execution_count": null,
   "id": "5bdedf80",
   "metadata": {},
   "outputs": [],
   "source": [
    "cardio_data.describe()"
   ]
  },
  {
   "cell_type": "markdown",
   "id": "b12c6fdc",
   "metadata": {},
   "source": [
    "### # TODO: handle missing values"
   ]
  },
  {
   "cell_type": "markdown",
   "id": "b494c4d0",
   "metadata": {},
   "source": [
    "### Handling errors in data"
   ]
  },
  {
   "cell_type": "code",
   "execution_count": 3,
   "id": "7db2a2c9",
   "metadata": {},
   "outputs": [
    {
     "ename": "NameError",
     "evalue": "name 'cardio_data' is not defined",
     "output_type": "error",
     "traceback": [
      "\u001b[1;31m---------------------------------------------------------------------------\u001b[0m",
      "\u001b[1;31mNameError\u001b[0m                                 Traceback (most recent call last)",
      "\u001b[1;32m~\\AppData\\Local\\Temp/ipykernel_19696/2377834325.py\u001b[0m in \u001b[0;36m<module>\u001b[1;34m\u001b[0m\n\u001b[1;32m----> 1\u001b[1;33m \u001b[0mcardio_data\u001b[0m\u001b[1;33m[\u001b[0m\u001b[1;34m'age_in_years'\u001b[0m\u001b[1;33m]\u001b[0m \u001b[1;33m=\u001b[0m \u001b[0mcardio_data\u001b[0m\u001b[1;33m.\u001b[0m\u001b[0mage\u001b[0m \u001b[1;33m//\u001b[0m \u001b[1;36m365\u001b[0m\u001b[1;33m\u001b[0m\u001b[1;33m\u001b[0m\u001b[0m\n\u001b[0m",
      "\u001b[1;31mNameError\u001b[0m: name 'cardio_data' is not defined"
     ]
    }
   ],
   "source": [
    "cardio_data['age_in_years'] = cardio_data.age // 365"
   ]
  },
  {
   "cell_type": "code",
   "execution_count": null,
   "id": "6b9d2d50",
   "metadata": {},
   "outputs": [],
   "source": [
    "cardio_data.age_in_years.hist()\n",
    "print(f\"Max age is {cardio_data.age_in_years.max()}\")\n",
    "print(f\"Minimum age is {cardio_data.age_in_years.min()}\")"
   ]
  },
  {
   "cell_type": "code",
   "execution_count": null,
   "id": "0475435f",
   "metadata": {},
   "outputs": [],
   "source": [
    "def info_num_feature(series: pd.Series):\n",
    "    \n",
    "    print(series.name)\n",
    "    print(f\"Max: {series.max()}\")\n",
    "    print(f\"Min: {series.min()}\")\n",
    "    print()"
   ]
  },
  {
   "cell_type": "code",
   "execution_count": null,
   "id": "cddae9b6",
   "metadata": {},
   "outputs": [],
   "source": [
    "for feature_name in numeric_features:\n",
    "    info_num_feature(cardio_data[feature_name])"
   ]
  },
  {
   "cell_type": "markdown",
   "id": "c5cde8d8",
   "metadata": {},
   "source": [
    "Widzimy, że w przypadku atrybutów z ciśnieniem mamy pewne błędy. Przyjrzyjmy się im bardziej szczegółowo:"
   ]
  },
  {
   "cell_type": "code",
   "execution_count": 4,
   "id": "9344df00",
   "metadata": {},
   "outputs": [
    {
     "ename": "NameError",
     "evalue": "name 'cardio_data' is not defined",
     "output_type": "error",
     "traceback": [
      "\u001b[1;31m---------------------------------------------------------------------------\u001b[0m",
      "\u001b[1;31mNameError\u001b[0m                                 Traceback (most recent call last)",
      "\u001b[1;32m~\\AppData\\Local\\Temp/ipykernel_19696/264657805.py\u001b[0m in \u001b[0;36m<module>\u001b[1;34m\u001b[0m\n\u001b[1;32m----> 1\u001b[1;33m \u001b[0mprint\u001b[0m\u001b[1;33m(\u001b[0m\u001b[1;34mf\"Minimal systolic pressure is : {cardio_data.ap_hi.min()}\"\u001b[0m\u001b[1;33m)\u001b[0m\u001b[1;33m\u001b[0m\u001b[1;33m\u001b[0m\u001b[0m\n\u001b[0m\u001b[0;32m      2\u001b[0m \u001b[0mprint\u001b[0m\u001b[1;33m(\u001b[0m\u001b[1;34mf\"Minimal diastolic pressure is : {cardio_data.ap_lo.min()}\"\u001b[0m\u001b[1;33m)\u001b[0m\u001b[1;33m\u001b[0m\u001b[1;33m\u001b[0m\u001b[0m\n\u001b[0;32m      3\u001b[0m \u001b[1;33m\u001b[0m\u001b[0m\n\u001b[0;32m      4\u001b[0m \u001b[0mcardio_data\u001b[0m\u001b[1;33m.\u001b[0m\u001b[0map_hi\u001b[0m \u001b[1;33m=\u001b[0m \u001b[0mcardio_data\u001b[0m\u001b[1;33m.\u001b[0m\u001b[0map_hi\u001b[0m\u001b[1;33m.\u001b[0m\u001b[0mapply\u001b[0m\u001b[1;33m(\u001b[0m\u001b[0mnp\u001b[0m\u001b[1;33m.\u001b[0m\u001b[0mabs\u001b[0m\u001b[1;33m)\u001b[0m\u001b[1;33m\u001b[0m\u001b[1;33m\u001b[0m\u001b[0m\n\u001b[0;32m      5\u001b[0m \u001b[0mcardio_data\u001b[0m\u001b[1;33m.\u001b[0m\u001b[0map_lo\u001b[0m \u001b[1;33m=\u001b[0m \u001b[0mcardio_data\u001b[0m\u001b[1;33m.\u001b[0m\u001b[0map_lo\u001b[0m\u001b[1;33m.\u001b[0m\u001b[0mapply\u001b[0m\u001b[1;33m(\u001b[0m\u001b[0mnp\u001b[0m\u001b[1;33m.\u001b[0m\u001b[0mabs\u001b[0m\u001b[1;33m)\u001b[0m\u001b[1;33m\u001b[0m\u001b[1;33m\u001b[0m\u001b[0m\n",
      "\u001b[1;31mNameError\u001b[0m: name 'cardio_data' is not defined"
     ]
    }
   ],
   "source": [
    "print(f\"Minimal systolic pressure is : {cardio_data.ap_hi.min()}\")\n",
    "print(f\"Minimal diastolic pressure is : {cardio_data.ap_lo.min()}\")\n",
    "\n",
    "cardio_data.ap_hi = cardio_data.ap_hi.apply(np.abs)\n",
    "cardio_data.ap_lo = cardio_data.ap_lo.apply(np.abs)\n",
    "\n",
    "print(f\"Minimal systolic pressure is: {cardio_data.ap_hi.min()}\")\n",
    "print(f\"Minimal diastolic pressure is : {cardio_data.ap_lo.min()}\")"
   ]
  },
  {
   "cell_type": "code",
   "execution_count": null,
   "id": "ee9975d2",
   "metadata": {},
   "outputs": [],
   "source": [
    "### Removing outliers"
   ]
  },
  {
   "cell_type": "code",
   "execution_count": null,
   "id": "bf1e9ee5",
   "metadata": {},
   "outputs": [],
   "source": [
    "SYSTOLIC_THR_MAX = 230\n",
    "DIASTOLIC_THR_MAX = 150\n",
    "\n",
    "SYSTOLIC_THR_MIN = 80\n",
    "DIASTOLIC_THR_MIN = 40"
   ]
  },
  {
   "cell_type": "code",
   "execution_count": null,
   "id": "6dad82a5",
   "metadata": {},
   "outputs": [],
   "source": [
    "bad_systolic_data = cardio_data[(cardio_data.ap_hi > SYSTOLIC_THR_MAX) | (cardio_data.ap_hi < SYSTOLIC_THR_MIN)]\n",
    "cardio_data.drop(bad_systolic_data.index, inplace=True)\n",
    "\n",
    "bad_diastolic_data = cardio_data[(cardio_data.ap_lo > DIASTOLIC_THR_MAX) | (cardio_data.ap_lo < DIASTOLIC_THR_MIN)]\n",
    "cardio_data.drop(bad_diastolic_data.index, inplace=True)"
   ]
  },
  {
   "cell_type": "markdown",
   "id": "4c82e2d6",
   "metadata": {},
   "source": [
    "### Removing pressure data errors"
   ]
  },
  {
   "cell_type": "code",
   "execution_count": null,
   "id": "b1d17343",
   "metadata": {},
   "outputs": [],
   "source": [
    "invalid_pressure = cardio_data[cardio_data.ap_lo >= cardio_data.ap_hi]\n",
    "cardio_data.drop(invalid_pressure.index, inplace=True)"
   ]
  },
  {
   "cell_type": "code",
   "execution_count": null,
   "id": "231743c9",
   "metadata": {},
   "outputs": [],
   "source": [
    "numeric_data = cardio_data[['age_in_years', 'height', 'weight', 'ap_hi', 'ap_lo', 'cardio']]\n",
    "numeric_data"
   ]
  },
  {
   "cell_type": "code",
   "execution_count": null,
   "id": "2a105f19",
   "metadata": {},
   "outputs": [],
   "source": [
    "train_X, test_X, train_y, test_y = train_test_split(\n",
    "    numeric_data.drop('cardio', axis=1),\n",
    "    numeric_data['cardio']\n",
    ")"
   ]
  },
  {
   "cell_type": "code",
   "execution_count": null,
   "id": "7dbd0f9b",
   "metadata": {},
   "outputs": [],
   "source": [
    "get_score(train_X, test_X, train_y, test_y)"
   ]
  },
  {
   "cell_type": "code",
   "execution_count": null,
   "id": "a72ad7ed",
   "metadata": {},
   "outputs": [],
   "source": [
    "### Categorical variables"
   ]
  },
  {
   "cell_type": "code",
   "execution_count": null,
   "id": "4d0da49b",
   "metadata": {},
   "outputs": [],
   "source": [
    "cat_data = cardio_data[categorical_features]\n",
    "cat_data.info()"
   ]
  },
  {
   "cell_type": "markdown",
   "id": "41117255",
   "metadata": {},
   "source": [
    "#### Ordinal encoding"
   ]
  },
  {
   "cell_type": "code",
   "execution_count": null,
   "id": "b78b03f1",
   "metadata": {},
   "outputs": [],
   "source": [
    "ord_encoder = OrdinalEncoder()\n",
    "\n",
    "cat_data1 = cat_data.copy()\n",
    "ordinal_cols = ['cholesterol', 'glucose']\n",
    "\n",
    "# applying\n",
    "cat_data1[ordinal_cols] = ord_encoder.fit_transform(cat_data[ordinal_cols])"
   ]
  },
  {
   "cell_type": "markdown",
   "id": "8fed992b",
   "metadata": {},
   "source": [
    "#### One Hot Encoding"
   ]
  },
  {
   "cell_type": "code",
   "execution_count": null,
   "id": "ba377048",
   "metadata": {},
   "outputs": [],
   "source": [
    "# TODO: Make it better!!!\n",
    "\n",
    "oh_encoder = OneHotEncoder(handle_unknown='ignore', sparse=False)\n",
    "\n",
    "oh_columns = ['lifestyle']\n",
    "\n",
    "oh_data = pd.DataFrame(oh_encoder.fit_transform(cat_data1[oh_columns]))\n",
    "\n",
    "# bring back the index\n",
    "oh_data.index = cat_data1.index\n",
    "oh_data"
   ]
  },
  {
   "cell_type": "code",
   "execution_count": null,
   "id": "c17cda7d",
   "metadata": {},
   "outputs": [],
   "source": []
  },
  {
   "cell_type": "code",
   "execution_count": null,
   "id": "87be7054",
   "metadata": {},
   "outputs": [],
   "source": [
    "# TODO: Wróć do podziału na train i test, w czym jest problem? (Walidacja krzyżowa)"
   ]
  },
  {
   "cell_type": "code",
   "execution_count": null,
   "id": "895d47ff",
   "metadata": {},
   "outputs": [],
   "source": []
  },
  {
   "cell_type": "code",
   "execution_count": null,
   "id": "31eb59e4",
   "metadata": {},
   "outputs": [],
   "source": []
  }
 ],
 "metadata": {
  "kernelspec": {
   "display_name": "Python 3 (ipykernel)",
   "language": "python",
   "name": "python3"
  },
  "language_info": {
   "codemirror_mode": {
    "name": "ipython",
    "version": 3
   },
   "file_extension": ".py",
   "mimetype": "text/x-python",
   "name": "python",
   "nbconvert_exporter": "python",
   "pygments_lexer": "ipython3",
   "version": "3.7.11"
  }
 },
 "nbformat": 4,
 "nbformat_minor": 5
}
