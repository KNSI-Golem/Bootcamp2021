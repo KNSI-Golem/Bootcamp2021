{
 "cells": [
  {
   "cell_type": "markdown",
   "id": "7cba1ee1",
   "metadata": {},
   "source": [
    "# TODO: Make a TEST dataset (and make it large (80%) of total)"
   ]
  },
  {
   "cell_type": "code",
   "execution_count": 70,
   "id": "1ef9a43a",
   "metadata": {},
   "outputs": [],
   "source": [
    "import pandas as pd\n",
    "import numpy as np\n",
    "\n",
    "import matplotlib.pyplot as plt\n",
    "\n",
    "\n",
    "from sklearn.model_selection import train_test_split\n",
    "from sklearn.metrics import accuracy_score\n",
    "\n",
    "# Preprocessing\n",
    "from sklearn.preprocessing import OrdinalEncoder\n",
    "from sklearn.preprocessing import OneHotEncoder\n",
    "\n",
    "# Model\n",
    "from sklearn.linear_model import LogisticRegression\n",
    "\n",
    "from helpers import get_score"
   ]
  },
  {
   "cell_type": "markdown",
   "id": "b8ac4c1b",
   "metadata": {},
   "source": [
    "### Ładujemy z pliku dataset"
   ]
  },
  {
   "cell_type": "code",
   "execution_count": 71,
   "id": "d77e2fa7",
   "metadata": {},
   "outputs": [
    {
     "data": {
      "text/html": [
       "<div>\n",
       "<style scoped>\n",
       "    .dataframe tbody tr th:only-of-type {\n",
       "        vertical-align: middle;\n",
       "    }\n",
       "\n",
       "    .dataframe tbody tr th {\n",
       "        vertical-align: top;\n",
       "    }\n",
       "\n",
       "    .dataframe thead th {\n",
       "        text-align: right;\n",
       "    }\n",
       "</style>\n",
       "<table border=\"1\" class=\"dataframe\">\n",
       "  <thead>\n",
       "    <tr style=\"text-align: right;\">\n",
       "      <th></th>\n",
       "      <th>age</th>\n",
       "      <th>height</th>\n",
       "      <th>weight</th>\n",
       "      <th>ap_hi</th>\n",
       "      <th>ap_lo</th>\n",
       "      <th>cardio</th>\n",
       "      <th>cholesterol</th>\n",
       "      <th>glucose</th>\n",
       "      <th>lifestyle</th>\n",
       "    </tr>\n",
       "  </thead>\n",
       "  <tbody>\n",
       "    <tr>\n",
       "      <th>0</th>\n",
       "      <td>18393</td>\n",
       "      <td>168</td>\n",
       "      <td>62.0</td>\n",
       "      <td>110</td>\n",
       "      <td>80</td>\n",
       "      <td>0</td>\n",
       "      <td>normal</td>\n",
       "      <td>normal</td>\n",
       "      <td>is_active</td>\n",
       "    </tr>\n",
       "    <tr>\n",
       "      <th>1</th>\n",
       "      <td>20228</td>\n",
       "      <td>156</td>\n",
       "      <td>85.0</td>\n",
       "      <td>140</td>\n",
       "      <td>90</td>\n",
       "      <td>1</td>\n",
       "      <td>high above normal</td>\n",
       "      <td>normal</td>\n",
       "      <td>is_active</td>\n",
       "    </tr>\n",
       "    <tr>\n",
       "      <th>2</th>\n",
       "      <td>18857</td>\n",
       "      <td>165</td>\n",
       "      <td>64.0</td>\n",
       "      <td>130</td>\n",
       "      <td>70</td>\n",
       "      <td>1</td>\n",
       "      <td>high above normal</td>\n",
       "      <td>normal</td>\n",
       "      <td>NaN</td>\n",
       "    </tr>\n",
       "    <tr>\n",
       "      <th>3</th>\n",
       "      <td>17623</td>\n",
       "      <td>169</td>\n",
       "      <td>82.0</td>\n",
       "      <td>150</td>\n",
       "      <td>100</td>\n",
       "      <td>1</td>\n",
       "      <td>normal</td>\n",
       "      <td>normal</td>\n",
       "      <td>is_active</td>\n",
       "    </tr>\n",
       "    <tr>\n",
       "      <th>4</th>\n",
       "      <td>17474</td>\n",
       "      <td>156</td>\n",
       "      <td>56.0</td>\n",
       "      <td>100</td>\n",
       "      <td>60</td>\n",
       "      <td>0</td>\n",
       "      <td>normal</td>\n",
       "      <td>normal</td>\n",
       "      <td>NaN</td>\n",
       "    </tr>\n",
       "  </tbody>\n",
       "</table>\n",
       "</div>"
      ],
      "text/plain": [
       "     age  height  weight  ap_hi  ap_lo  cardio        cholesterol glucose  \\\n",
       "0  18393     168    62.0    110     80       0             normal  normal   \n",
       "1  20228     156    85.0    140     90       1  high above normal  normal   \n",
       "2  18857     165    64.0    130     70       1  high above normal  normal   \n",
       "3  17623     169    82.0    150    100       1             normal  normal   \n",
       "4  17474     156    56.0    100     60       0             normal  normal   \n",
       "\n",
       "   lifestyle  \n",
       "0  is_active  \n",
       "1  is_active  \n",
       "2        NaN  \n",
       "3  is_active  \n",
       "4        NaN  "
      ]
     },
     "execution_count": 71,
     "metadata": {},
     "output_type": "execute_result"
    }
   ],
   "source": [
    "cardio_data = pd.read_csv(\"data/messy_data.csv\")\n",
    "cardio_data.head()"
   ]
  },
  {
   "cell_type": "markdown",
   "id": "0fc4bc84",
   "metadata": {},
   "source": [
    "### Co przewidujemy?"
   ]
  },
  {
   "cell_type": "code",
   "execution_count": 72,
   "id": "b63a9262",
   "metadata": {},
   "outputs": [
    {
     "data": {
      "text/plain": [
       "0    35021\n",
       "1    34979\n",
       "Name: cardio, dtype: int64"
      ]
     },
     "execution_count": 72,
     "metadata": {},
     "output_type": "execute_result"
    }
   ],
   "source": [
    "cardio_data.cardio.value_counts()"
   ]
  },
  {
   "cell_type": "markdown",
   "id": "c18553c4",
   "metadata": {},
   "source": [
    "Widzimy, że klasy są raczej zbalansowane, więc możemy tu użyć **accuracy_score**."
   ]
  },
  {
   "cell_type": "markdown",
   "id": "7e4401ef",
   "metadata": {},
   "source": [
    "### Co będzie, jeśli od razu coś wytrenujemy?"
   ]
  },
  {
   "cell_type": "markdown",
   "id": "367df0b3",
   "metadata": {},
   "source": [
    "Skoro nasza regresja logistyczna nie działa z wartościami tekstowymi, na razie nie bierzmy ich pod uwagę."
   ]
  },
  {
   "cell_type": "code",
   "execution_count": 73,
   "id": "91e964ad",
   "metadata": {},
   "outputs": [],
   "source": [
    "numeric_cardio_data = cardio_data.drop(\n",
    "    ['cholesterol', 'glucose', 'lifestyle'],\n",
    "    axis=1\n",
    ")"
   ]
  },
  {
   "cell_type": "code",
   "execution_count": 74,
   "id": "364b44ab",
   "metadata": {},
   "outputs": [
    {
     "data": {
      "text/html": [
       "<div>\n",
       "<style scoped>\n",
       "    .dataframe tbody tr th:only-of-type {\n",
       "        vertical-align: middle;\n",
       "    }\n",
       "\n",
       "    .dataframe tbody tr th {\n",
       "        vertical-align: top;\n",
       "    }\n",
       "\n",
       "    .dataframe thead th {\n",
       "        text-align: right;\n",
       "    }\n",
       "</style>\n",
       "<table border=\"1\" class=\"dataframe\">\n",
       "  <thead>\n",
       "    <tr style=\"text-align: right;\">\n",
       "      <th></th>\n",
       "      <th>age</th>\n",
       "      <th>height</th>\n",
       "      <th>weight</th>\n",
       "      <th>ap_hi</th>\n",
       "      <th>ap_lo</th>\n",
       "      <th>cardio</th>\n",
       "    </tr>\n",
       "  </thead>\n",
       "  <tbody>\n",
       "    <tr>\n",
       "      <th>0</th>\n",
       "      <td>18393</td>\n",
       "      <td>168</td>\n",
       "      <td>62.0</td>\n",
       "      <td>110</td>\n",
       "      <td>80</td>\n",
       "      <td>0</td>\n",
       "    </tr>\n",
       "    <tr>\n",
       "      <th>1</th>\n",
       "      <td>20228</td>\n",
       "      <td>156</td>\n",
       "      <td>85.0</td>\n",
       "      <td>140</td>\n",
       "      <td>90</td>\n",
       "      <td>1</td>\n",
       "    </tr>\n",
       "    <tr>\n",
       "      <th>2</th>\n",
       "      <td>18857</td>\n",
       "      <td>165</td>\n",
       "      <td>64.0</td>\n",
       "      <td>130</td>\n",
       "      <td>70</td>\n",
       "      <td>1</td>\n",
       "    </tr>\n",
       "    <tr>\n",
       "      <th>3</th>\n",
       "      <td>17623</td>\n",
       "      <td>169</td>\n",
       "      <td>82.0</td>\n",
       "      <td>150</td>\n",
       "      <td>100</td>\n",
       "      <td>1</td>\n",
       "    </tr>\n",
       "    <tr>\n",
       "      <th>4</th>\n",
       "      <td>17474</td>\n",
       "      <td>156</td>\n",
       "      <td>56.0</td>\n",
       "      <td>100</td>\n",
       "      <td>60</td>\n",
       "      <td>0</td>\n",
       "    </tr>\n",
       "  </tbody>\n",
       "</table>\n",
       "</div>"
      ],
      "text/plain": [
       "     age  height  weight  ap_hi  ap_lo  cardio\n",
       "0  18393     168    62.0    110     80       0\n",
       "1  20228     156    85.0    140     90       1\n",
       "2  18857     165    64.0    130     70       1\n",
       "3  17623     169    82.0    150    100       1\n",
       "4  17474     156    56.0    100     60       0"
      ]
     },
     "execution_count": 74,
     "metadata": {},
     "output_type": "execute_result"
    }
   ],
   "source": [
    "numeric_cardio_data.head()"
   ]
  },
  {
   "cell_type": "code",
   "execution_count": 75,
   "id": "70d025cd",
   "metadata": {},
   "outputs": [],
   "source": [
    "train_X, test_X, train_y, test_y = train_test_split(\n",
    "    numeric_cardio_data.drop(\"cardio\", axis=1),\n",
    "    numeric_cardio_data['cardio'],\n",
    "    test_size=0.2\n",
    ")"
   ]
  },
  {
   "cell_type": "code",
   "execution_count": 76,
   "id": "a1bc5ce7",
   "metadata": {},
   "outputs": [
    {
     "data": {
      "text/plain": [
       "38384    1\n",
       "46820    0\n",
       "19046    0\n",
       "36503    0\n",
       "16364    1\n",
       "        ..\n",
       "32027    1\n",
       "23228    0\n",
       "66372    1\n",
       "37367    1\n",
       "34401    1\n",
       "Name: cardio, Length: 56000, dtype: int64"
      ]
     },
     "execution_count": 76,
     "metadata": {},
     "output_type": "execute_result"
    }
   ],
   "source": [
    "train_y"
   ]
  },
  {
   "cell_type": "code",
   "execution_count": 77,
   "id": "ae64eb0f",
   "metadata": {},
   "outputs": [
    {
     "name": "stdout",
     "output_type": "stream",
     "text": [
      "Accuracy score: 69.49 %\n"
     ]
    }
   ],
   "source": [
    "baseline_model = LogisticRegression()\n",
    "\n",
    "baseline_model.fit(train_X, train_y)\n",
    "baseline_preds = baseline_model.predict(test_X)\n",
    "\n",
    "acc = accuracy_score(test_y, baseline_preds)\n",
    "print(f\"Accuracy score: {round(100 * acc, 2)} %\")"
   ]
  },
  {
   "cell_type": "markdown",
   "id": "341796fc",
   "metadata": {},
   "source": [
    "### Not bad, but can we do better?"
   ]
  },
  {
   "cell_type": "markdown",
   "id": "c5d8577d",
   "metadata": {},
   "source": [
    "<img src=\"https://i.pinimg.com/736x/a8/ef/58/a8ef58e480da3676dc81f0ffc191807b--swimmer-girl-problems-jeep-humor.jpg\" width=400 height=400 />"
   ]
  },
  {
   "cell_type": "markdown",
   "id": "8ca5a73f",
   "metadata": {},
   "source": [
    "# Exploratory Data Analysis (EDA)"
   ]
  },
  {
   "cell_type": "code",
   "execution_count": 78,
   "id": "43307fd9",
   "metadata": {},
   "outputs": [],
   "source": [
    "# TODO: What is it and how it is used?"
   ]
  },
  {
   "cell_type": "markdown",
   "id": "93507b02",
   "metadata": {},
   "source": [
    "### Jakie widzimy tutaj typy atrybutów?"
   ]
  },
  {
   "cell_type": "code",
   "execution_count": 79,
   "id": "72b64405",
   "metadata": {},
   "outputs": [
    {
     "data": {
      "text/plain": [
       "age              int64\n",
       "height           int64\n",
       "weight         float64\n",
       "ap_hi            int64\n",
       "ap_lo            int64\n",
       "cardio           int64\n",
       "cholesterol     object\n",
       "glucose         object\n",
       "lifestyle       object\n",
       "dtype: object"
      ]
     },
     "execution_count": 79,
     "metadata": {},
     "output_type": "execute_result"
    }
   ],
   "source": [
    "cardio_data.dtypes"
   ]
  },
  {
   "cell_type": "code",
   "execution_count": 80,
   "id": "56899c88",
   "metadata": {},
   "outputs": [],
   "source": [
    "numeric_features = ['age', 'height', 'weight', 'ap_hi', 'ap_lo']\n",
    "categorical_features = [\"cholesterol\", \"glucose\", \"lifestyle\"]"
   ]
  },
  {
   "cell_type": "code",
   "execution_count": 81,
   "id": "93472cb2",
   "metadata": {},
   "outputs": [
    {
     "name": "stdout",
     "output_type": "stream",
     "text": [
      "<class 'pandas.core.frame.DataFrame'>\n",
      "RangeIndex: 70000 entries, 0 to 69999\n",
      "Data columns (total 9 columns):\n",
      " #   Column       Non-Null Count  Dtype  \n",
      "---  ------       --------------  -----  \n",
      " 0   age          70000 non-null  int64  \n",
      " 1   height       70000 non-null  int64  \n",
      " 2   weight       70000 non-null  float64\n",
      " 3   ap_hi        70000 non-null  int64  \n",
      " 4   ap_lo        70000 non-null  int64  \n",
      " 5   cardio       70000 non-null  int64  \n",
      " 6   cholesterol  70000 non-null  object \n",
      " 7   glucose      70000 non-null  object \n",
      " 8   lifestyle    57565 non-null  object \n",
      "dtypes: float64(1), int64(5), object(3)\n",
      "memory usage: 4.8+ MB\n"
     ]
    }
   ],
   "source": [
    "cardio_data.info()"
   ]
  },
  {
   "cell_type": "code",
   "execution_count": 82,
   "id": "1760c62a",
   "metadata": {},
   "outputs": [
    {
     "name": "stdout",
     "output_type": "stream",
     "text": [
      "<class 'pandas.core.frame.DataFrame'>\n",
      "RangeIndex: 70000 entries, 0 to 69999\n",
      "Data columns (total 9 columns):\n",
      " #   Column       Non-Null Count  Dtype  \n",
      "---  ------       --------------  -----  \n",
      " 0   age          70000 non-null  int64  \n",
      " 1   height       70000 non-null  int64  \n",
      " 2   weight       70000 non-null  float64\n",
      " 3   ap_hi        70000 non-null  int64  \n",
      " 4   ap_lo        70000 non-null  int64  \n",
      " 5   cardio       70000 non-null  int64  \n",
      " 6   cholesterol  70000 non-null  object \n",
      " 7   glucose      70000 non-null  object \n",
      " 8   lifestyle    57565 non-null  object \n",
      "dtypes: float64(1), int64(5), object(3)\n",
      "memory usage: 4.8+ MB\n"
     ]
    }
   ],
   "source": [
    "cardio_data.info()"
   ]
  },
  {
   "cell_type": "code",
   "execution_count": 83,
   "id": "588ae15d",
   "metadata": {},
   "outputs": [
    {
     "data": {
      "text/html": [
       "<div>\n",
       "<style scoped>\n",
       "    .dataframe tbody tr th:only-of-type {\n",
       "        vertical-align: middle;\n",
       "    }\n",
       "\n",
       "    .dataframe tbody tr th {\n",
       "        vertical-align: top;\n",
       "    }\n",
       "\n",
       "    .dataframe thead th {\n",
       "        text-align: right;\n",
       "    }\n",
       "</style>\n",
       "<table border=\"1\" class=\"dataframe\">\n",
       "  <thead>\n",
       "    <tr style=\"text-align: right;\">\n",
       "      <th></th>\n",
       "      <th>age</th>\n",
       "      <th>height</th>\n",
       "      <th>weight</th>\n",
       "      <th>ap_hi</th>\n",
       "      <th>ap_lo</th>\n",
       "      <th>cardio</th>\n",
       "    </tr>\n",
       "  </thead>\n",
       "  <tbody>\n",
       "    <tr>\n",
       "      <th>count</th>\n",
       "      <td>70000.000000</td>\n",
       "      <td>70000.000000</td>\n",
       "      <td>70000.000000</td>\n",
       "      <td>70000.000000</td>\n",
       "      <td>70000.000000</td>\n",
       "      <td>70000.000000</td>\n",
       "    </tr>\n",
       "    <tr>\n",
       "      <th>mean</th>\n",
       "      <td>19468.865814</td>\n",
       "      <td>164.359229</td>\n",
       "      <td>74.205690</td>\n",
       "      <td>128.817286</td>\n",
       "      <td>96.630414</td>\n",
       "      <td>0.499700</td>\n",
       "    </tr>\n",
       "    <tr>\n",
       "      <th>std</th>\n",
       "      <td>2467.251667</td>\n",
       "      <td>8.210126</td>\n",
       "      <td>14.395757</td>\n",
       "      <td>154.011419</td>\n",
       "      <td>188.472530</td>\n",
       "      <td>0.500003</td>\n",
       "    </tr>\n",
       "    <tr>\n",
       "      <th>min</th>\n",
       "      <td>10798.000000</td>\n",
       "      <td>55.000000</td>\n",
       "      <td>10.000000</td>\n",
       "      <td>-150.000000</td>\n",
       "      <td>-70.000000</td>\n",
       "      <td>0.000000</td>\n",
       "    </tr>\n",
       "    <tr>\n",
       "      <th>25%</th>\n",
       "      <td>17664.000000</td>\n",
       "      <td>159.000000</td>\n",
       "      <td>65.000000</td>\n",
       "      <td>120.000000</td>\n",
       "      <td>80.000000</td>\n",
       "      <td>0.000000</td>\n",
       "    </tr>\n",
       "    <tr>\n",
       "      <th>50%</th>\n",
       "      <td>19703.000000</td>\n",
       "      <td>165.000000</td>\n",
       "      <td>72.000000</td>\n",
       "      <td>120.000000</td>\n",
       "      <td>80.000000</td>\n",
       "      <td>0.000000</td>\n",
       "    </tr>\n",
       "    <tr>\n",
       "      <th>75%</th>\n",
       "      <td>21327.000000</td>\n",
       "      <td>170.000000</td>\n",
       "      <td>82.000000</td>\n",
       "      <td>140.000000</td>\n",
       "      <td>90.000000</td>\n",
       "      <td>1.000000</td>\n",
       "    </tr>\n",
       "    <tr>\n",
       "      <th>max</th>\n",
       "      <td>23713.000000</td>\n",
       "      <td>250.000000</td>\n",
       "      <td>200.000000</td>\n",
       "      <td>16020.000000</td>\n",
       "      <td>11000.000000</td>\n",
       "      <td>1.000000</td>\n",
       "    </tr>\n",
       "  </tbody>\n",
       "</table>\n",
       "</div>"
      ],
      "text/plain": [
       "                age        height        weight         ap_hi         ap_lo  \\\n",
       "count  70000.000000  70000.000000  70000.000000  70000.000000  70000.000000   \n",
       "mean   19468.865814    164.359229     74.205690    128.817286     96.630414   \n",
       "std     2467.251667      8.210126     14.395757    154.011419    188.472530   \n",
       "min    10798.000000     55.000000     10.000000   -150.000000    -70.000000   \n",
       "25%    17664.000000    159.000000     65.000000    120.000000     80.000000   \n",
       "50%    19703.000000    165.000000     72.000000    120.000000     80.000000   \n",
       "75%    21327.000000    170.000000     82.000000    140.000000     90.000000   \n",
       "max    23713.000000    250.000000    200.000000  16020.000000  11000.000000   \n",
       "\n",
       "             cardio  \n",
       "count  70000.000000  \n",
       "mean       0.499700  \n",
       "std        0.500003  \n",
       "min        0.000000  \n",
       "25%        0.000000  \n",
       "50%        0.000000  \n",
       "75%        1.000000  \n",
       "max        1.000000  "
      ]
     },
     "execution_count": 83,
     "metadata": {},
     "output_type": "execute_result"
    }
   ],
   "source": [
    "cardio_data.describe()"
   ]
  },
  {
   "cell_type": "markdown",
   "id": "23b46408",
   "metadata": {},
   "source": [
    "### Handling errors in data"
   ]
  },
  {
   "cell_type": "code",
   "execution_count": 84,
   "id": "0c988fdd",
   "metadata": {},
   "outputs": [],
   "source": [
    "cardio_data['age_in_years'] = cardio_data.age // 365"
   ]
  },
  {
   "cell_type": "code",
   "execution_count": 85,
   "id": "76f62663",
   "metadata": {},
   "outputs": [
    {
     "name": "stdout",
     "output_type": "stream",
     "text": [
      "Max age is 64\n",
      "Minimum age is 29\n"
     ]
    },
    {
     "data": {
      "image/png": "[encoded data removed]",
      "text/plain": [
       "<Figure size 432x288 with 1 Axes>"
      ]
     },
     "metadata": {
      "needs_background": "light"
     },
     "output_type": "display_data"
    }
   ],
   "source": [
    "cardio_data.age_in_years.hist()\n",
    "print(f\"Max age is {cardio_data.age_in_years.max()}\")\n",
    "print(f\"Minimum age is {cardio_data.age_in_years.min()}\")"
   ]
  },
  {
   "cell_type": "code",
   "execution_count": 86,
   "id": "b84a0122",
   "metadata": {},
   "outputs": [],
   "source": [
    "def info_num_feature(series: pd.Series):\n",
    "    \n",
    "    print(series.name)\n",
    "    print(f\"Max: {series.max()}\")\n",
    "    print(f\"Min: {series.min()}\")\n",
    "    print()"
   ]
  },
  {
   "cell_type": "code",
   "execution_count": 87,
   "id": "702de3aa",
   "metadata": {
    "scrolled": true
   },
   "outputs": [
    {
     "name": "stdout",
     "output_type": "stream",
     "text": [
      "age\n",
      "Max: 23713\n",
      "Min: 10798\n",
      "\n",
      "height\n",
      "Max: 250\n",
      "Min: 55\n",
      "\n",
      "weight\n",
      "Max: 200.0\n",
      "Min: 10.0\n",
      "\n",
      "ap_hi\n",
      "Max: 16020\n",
      "Min: -150\n",
      "\n",
      "ap_lo\n",
      "Max: 11000\n",
      "Min: -70\n",
      "\n"
     ]
    }
   ],
   "source": [
    "for feature_name in numeric_features:\n",
    "    info_num_feature(cardio_data[feature_name])"
   ]
  },
  {
   "cell_type": "markdown",
   "id": "f1cb56b4",
   "metadata": {},
   "source": [
    "Widzimy, że w przypadku atrybutów z ciśnieniem mamy pewne błędy. Przyjrzyjmy się im bardziej szczegółowo:"
   ]
  },
  {
   "cell_type": "code",
   "execution_count": 88,
   "id": "5640e500",
   "metadata": {},
   "outputs": [
    {
     "name": "stdout",
     "output_type": "stream",
     "text": [
      "Minimal systolic pressure is : -150\n",
      "Minimal diastolic pressure is : -70\n",
      "Minimal systolic pressure is: 1\n",
      "Minimal diastolic pressure is : 0\n"
     ]
    }
   ],
   "source": [
    "print(f\"Minimal systolic pressure is : {cardio_data.ap_hi.min()}\")\n",
    "print(f\"Minimal diastolic pressure is : {cardio_data.ap_lo.min()}\")\n",
    "\n",
    "cardio_data.ap_hi = cardio_data.ap_hi.apply(np.abs)\n",
    "cardio_data.ap_lo = cardio_data.ap_lo.apply(np.abs)\n",
    "\n",
    "print(f\"Minimal systolic pressure is: {cardio_data.ap_hi.min()}\")\n",
    "print(f\"Minimal diastolic pressure is : {cardio_data.ap_lo.min()}\")"
   ]
  },
  {
   "cell_type": "markdown",
   "id": "5cfb8353",
   "metadata": {},
   "source": [
    "### Removing outliers"
   ]
  },
  {
   "cell_type": "code",
   "execution_count": 89,
   "id": "562262d0",
   "metadata": {},
   "outputs": [],
   "source": [
    "SYSTOLIC_THR_MAX = 230\n",
    "DIASTOLIC_THR_MAX = 150\n",
    "\n",
    "SYSTOLIC_THR_MIN = 80\n",
    "DIASTOLIC_THR_MIN = 40"
   ]
  },
  {
   "cell_type": "code",
   "execution_count": 90,
   "id": "ac5c917f",
   "metadata": {},
   "outputs": [],
   "source": [
    "bad_systolic_data = cardio_data[(cardio_data.ap_hi > SYSTOLIC_THR_MAX) | (cardio_data.ap_hi < SYSTOLIC_THR_MIN)]\n",
    "cardio_data.drop(bad_systolic_data.index, inplace=True)\n",
    "\n",
    "bad_diastolic_data = cardio_data[(cardio_data.ap_lo > DIASTOLIC_THR_MAX) | (cardio_data.ap_lo < DIASTOLIC_THR_MIN)]\n",
    "cardio_data.drop(bad_diastolic_data.index, inplace=True)"
   ]
  },
  {
   "cell_type": "markdown",
   "id": "483330dc",
   "metadata": {},
   "source": [
    "### Removing pressure data errors"
   ]
  },
  {
   "cell_type": "code",
   "execution_count": 91,
   "id": "75a4d619",
   "metadata": {},
   "outputs": [],
   "source": [
    "invalid_pressure = cardio_data[cardio_data.ap_lo >= cardio_data.ap_hi]\n",
    "cardio_data.drop(invalid_pressure.index, inplace=True)"
   ]
  },
  {
   "cell_type": "code",
   "execution_count": 92,
   "id": "9b334b78",
   "metadata": {},
   "outputs": [
    {
     "data": {
      "text/html": [
       "<div>\n",
       "<style scoped>\n",
       "    .dataframe tbody tr th:only-of-type {\n",
       "        vertical-align: middle;\n",
       "    }\n",
       "\n",
       "    .dataframe tbody tr th {\n",
       "        vertical-align: top;\n",
       "    }\n",
       "\n",
       "    .dataframe thead th {\n",
       "        text-align: right;\n",
       "    }\n",
       "</style>\n",
       "<table border=\"1\" class=\"dataframe\">\n",
       "  <thead>\n",
       "    <tr style=\"text-align: right;\">\n",
       "      <th></th>\n",
       "      <th>age_in_years</th>\n",
       "      <th>height</th>\n",
       "      <th>weight</th>\n",
       "      <th>ap_hi</th>\n",
       "      <th>ap_lo</th>\n",
       "      <th>cardio</th>\n",
       "    </tr>\n",
       "  </thead>\n",
       "  <tbody>\n",
       "    <tr>\n",
       "      <th>0</th>\n",
       "      <td>50</td>\n",
       "      <td>168</td>\n",
       "      <td>62.0</td>\n",
       "      <td>110</td>\n",
       "      <td>80</td>\n",
       "      <td>0</td>\n",
       "    </tr>\n",
       "    <tr>\n",
       "      <th>1</th>\n",
       "      <td>55</td>\n",
       "      <td>156</td>\n",
       "      <td>85.0</td>\n",
       "      <td>140</td>\n",
       "      <td>90</td>\n",
       "      <td>1</td>\n",
       "    </tr>\n",
       "    <tr>\n",
       "      <th>2</th>\n",
       "      <td>51</td>\n",
       "      <td>165</td>\n",
       "      <td>64.0</td>\n",
       "      <td>130</td>\n",
       "      <td>70</td>\n",
       "      <td>1</td>\n",
       "    </tr>\n",
       "    <tr>\n",
       "      <th>3</th>\n",
       "      <td>48</td>\n",
       "      <td>169</td>\n",
       "      <td>82.0</td>\n",
       "      <td>150</td>\n",
       "      <td>100</td>\n",
       "      <td>1</td>\n",
       "    </tr>\n",
       "    <tr>\n",
       "      <th>4</th>\n",
       "      <td>47</td>\n",
       "      <td>156</td>\n",
       "      <td>56.0</td>\n",
       "      <td>100</td>\n",
       "      <td>60</td>\n",
       "      <td>0</td>\n",
       "    </tr>\n",
       "    <tr>\n",
       "      <th>...</th>\n",
       "      <td>...</td>\n",
       "      <td>...</td>\n",
       "      <td>...</td>\n",
       "      <td>...</td>\n",
       "      <td>...</td>\n",
       "      <td>...</td>\n",
       "    </tr>\n",
       "    <tr>\n",
       "      <th>69995</th>\n",
       "      <td>52</td>\n",
       "      <td>168</td>\n",
       "      <td>76.0</td>\n",
       "      <td>120</td>\n",
       "      <td>80</td>\n",
       "      <td>0</td>\n",
       "    </tr>\n",
       "    <tr>\n",
       "      <th>69996</th>\n",
       "      <td>61</td>\n",
       "      <td>158</td>\n",
       "      <td>126.0</td>\n",
       "      <td>140</td>\n",
       "      <td>90</td>\n",
       "      <td>1</td>\n",
       "    </tr>\n",
       "    <tr>\n",
       "      <th>69997</th>\n",
       "      <td>52</td>\n",
       "      <td>183</td>\n",
       "      <td>105.0</td>\n",
       "      <td>180</td>\n",
       "      <td>90</td>\n",
       "      <td>1</td>\n",
       "    </tr>\n",
       "    <tr>\n",
       "      <th>69998</th>\n",
       "      <td>61</td>\n",
       "      <td>163</td>\n",
       "      <td>72.0</td>\n",
       "      <td>135</td>\n",
       "      <td>80</td>\n",
       "      <td>1</td>\n",
       "    </tr>\n",
       "    <tr>\n",
       "      <th>69999</th>\n",
       "      <td>56</td>\n",
       "      <td>170</td>\n",
       "      <td>72.0</td>\n",
       "      <td>120</td>\n",
       "      <td>80</td>\n",
       "      <td>0</td>\n",
       "    </tr>\n",
       "  </tbody>\n",
       "</table>\n",
       "<p>68662 rows × 6 columns</p>\n",
       "</div>"
      ],
      "text/plain": [
       "       age_in_years  height  weight  ap_hi  ap_lo  cardio\n",
       "0                50     168    62.0    110     80       0\n",
       "1                55     156    85.0    140     90       1\n",
       "2                51     165    64.0    130     70       1\n",
       "3                48     169    82.0    150    100       1\n",
       "4                47     156    56.0    100     60       0\n",
       "...             ...     ...     ...    ...    ...     ...\n",
       "69995            52     168    76.0    120     80       0\n",
       "69996            61     158   126.0    140     90       1\n",
       "69997            52     183   105.0    180     90       1\n",
       "69998            61     163    72.0    135     80       1\n",
       "69999            56     170    72.0    120     80       0\n",
       "\n",
       "[68662 rows x 6 columns]"
      ]
     },
     "execution_count": 92,
     "metadata": {},
     "output_type": "execute_result"
    }
   ],
   "source": [
    "numeric_data = cardio_data[['age_in_years', 'height', 'weight', 'ap_hi', 'ap_lo', 'cardio']]\n",
    "numeric_data"
   ]
  },
  {
   "cell_type": "code",
   "execution_count": 93,
   "id": "2c253f76",
   "metadata": {},
   "outputs": [],
   "source": [
    "train_X, test_X, train_y, test_y = train_test_split(\n",
    "    numeric_data.drop('cardio', axis=1),\n",
    "    numeric_data['cardio']\n",
    ")"
   ]
  },
  {
   "cell_type": "code",
   "execution_count": 94,
   "id": "84a666af",
   "metadata": {},
   "outputs": [
    {
     "name": "stdout",
     "output_type": "stream",
     "text": [
      "Accuracy score: 72.03 %\n"
     ]
    },
    {
     "data": {
      "text/plain": [
       "0.7203192356984738"
      ]
     },
     "execution_count": 94,
     "metadata": {},
     "output_type": "execute_result"
    }
   ],
   "source": [
    "from helpers import get_score\n",
    "\n",
    "get_score(train_X, test_X, train_y, test_y)"
   ]
  },
  {
   "cell_type": "markdown",
   "id": "8ea97bcf",
   "metadata": {},
   "source": [
    "### Categorical variables"
   ]
  },
  {
   "cell_type": "code",
   "execution_count": 95,
   "id": "b9ea6bb0",
   "metadata": {},
   "outputs": [
    {
     "name": "stdout",
     "output_type": "stream",
     "text": [
      "<class 'pandas.core.frame.DataFrame'>\n",
      "Int64Index: 68662 entries, 0 to 69999\n",
      "Data columns (total 3 columns):\n",
      " #   Column       Non-Null Count  Dtype \n",
      "---  ------       --------------  ----- \n",
      " 0   cholesterol  68662 non-null  object\n",
      " 1   glucose      68662 non-null  object\n",
      " 2   lifestyle    56444 non-null  object\n",
      "dtypes: object(3)\n",
      "memory usage: 2.1+ MB\n"
     ]
    }
   ],
   "source": [
    "cat_data = cardio_data[categorical_features]\n",
    "cat_data.info()"
   ]
  },
  {
   "cell_type": "markdown",
   "id": "3e1c1b2a",
   "metadata": {},
   "source": [
    "#### Ordinal encoding"
   ]
  },
  {
   "cell_type": "code",
   "execution_count": 103,
   "id": "5024c4af",
   "metadata": {},
   "outputs": [],
   "source": [
    "ord_encoder = OrdinalEncoder()\n",
    "\n",
    "cat_data1 = cat_data.copy()\n",
    "ordinal_cols = ['cholesterol', 'glucose']\n",
    "\n",
    "# applying\n",
    "cat_data1[ordinal_cols] = ord_encoder.fit_transform(cat_data[ordinal_cols])"
   ]
  },
  {
   "cell_type": "markdown",
   "id": "c4fdda81",
   "metadata": {},
   "source": [
    "#### One Hot Encoding"
   ]
  },
  {
   "cell_type": "code",
   "execution_count": 104,
   "id": "0f077b2e",
   "metadata": {},
   "outputs": [
    {
     "data": {
      "text/html": [
       "<div>\n",
       "<style scoped>\n",
       "    .dataframe tbody tr th:only-of-type {\n",
       "        vertical-align: middle;\n",
       "    }\n",
       "\n",
       "    .dataframe tbody tr th {\n",
       "        vertical-align: top;\n",
       "    }\n",
       "\n",
       "    .dataframe thead th {\n",
       "        text-align: right;\n",
       "    }\n",
       "</style>\n",
       "<table border=\"1\" class=\"dataframe\">\n",
       "  <thead>\n",
       "    <tr style=\"text-align: right;\">\n",
       "      <th></th>\n",
       "      <th>0</th>\n",
       "      <th>1</th>\n",
       "      <th>2</th>\n",
       "      <th>3</th>\n",
       "      <th>4</th>\n",
       "      <th>5</th>\n",
       "      <th>6</th>\n",
       "      <th>7</th>\n",
       "    </tr>\n",
       "  </thead>\n",
       "  <tbody>\n",
       "    <tr>\n",
       "      <th>0</th>\n",
       "      <td>0.0</td>\n",
       "      <td>0.0</td>\n",
       "      <td>1.0</td>\n",
       "      <td>0.0</td>\n",
       "      <td>0.0</td>\n",
       "      <td>0.0</td>\n",
       "      <td>0.0</td>\n",
       "      <td>0.0</td>\n",
       "    </tr>\n",
       "    <tr>\n",
       "      <th>1</th>\n",
       "      <td>0.0</td>\n",
       "      <td>0.0</td>\n",
       "      <td>1.0</td>\n",
       "      <td>0.0</td>\n",
       "      <td>0.0</td>\n",
       "      <td>0.0</td>\n",
       "      <td>0.0</td>\n",
       "      <td>0.0</td>\n",
       "    </tr>\n",
       "    <tr>\n",
       "      <th>2</th>\n",
       "      <td>0.0</td>\n",
       "      <td>0.0</td>\n",
       "      <td>0.0</td>\n",
       "      <td>0.0</td>\n",
       "      <td>0.0</td>\n",
       "      <td>0.0</td>\n",
       "      <td>0.0</td>\n",
       "      <td>1.0</td>\n",
       "    </tr>\n",
       "    <tr>\n",
       "      <th>3</th>\n",
       "      <td>0.0</td>\n",
       "      <td>0.0</td>\n",
       "      <td>1.0</td>\n",
       "      <td>0.0</td>\n",
       "      <td>0.0</td>\n",
       "      <td>0.0</td>\n",
       "      <td>0.0</td>\n",
       "      <td>0.0</td>\n",
       "    </tr>\n",
       "    <tr>\n",
       "      <th>4</th>\n",
       "      <td>0.0</td>\n",
       "      <td>0.0</td>\n",
       "      <td>0.0</td>\n",
       "      <td>0.0</td>\n",
       "      <td>0.0</td>\n",
       "      <td>0.0</td>\n",
       "      <td>0.0</td>\n",
       "      <td>1.0</td>\n",
       "    </tr>\n",
       "    <tr>\n",
       "      <th>...</th>\n",
       "      <td>...</td>\n",
       "      <td>...</td>\n",
       "      <td>...</td>\n",
       "      <td>...</td>\n",
       "      <td>...</td>\n",
       "      <td>...</td>\n",
       "      <td>...</td>\n",
       "      <td>...</td>\n",
       "    </tr>\n",
       "    <tr>\n",
       "      <th>69995</th>\n",
       "      <td>0.0</td>\n",
       "      <td>0.0</td>\n",
       "      <td>0.0</td>\n",
       "      <td>0.0</td>\n",
       "      <td>0.0</td>\n",
       "      <td>0.0</td>\n",
       "      <td>1.0</td>\n",
       "      <td>0.0</td>\n",
       "    </tr>\n",
       "    <tr>\n",
       "      <th>69996</th>\n",
       "      <td>0.0</td>\n",
       "      <td>0.0</td>\n",
       "      <td>1.0</td>\n",
       "      <td>0.0</td>\n",
       "      <td>0.0</td>\n",
       "      <td>0.0</td>\n",
       "      <td>0.0</td>\n",
       "      <td>0.0</td>\n",
       "    </tr>\n",
       "    <tr>\n",
       "      <th>69997</th>\n",
       "      <td>1.0</td>\n",
       "      <td>0.0</td>\n",
       "      <td>0.0</td>\n",
       "      <td>0.0</td>\n",
       "      <td>0.0</td>\n",
       "      <td>0.0</td>\n",
       "      <td>0.0</td>\n",
       "      <td>0.0</td>\n",
       "    </tr>\n",
       "    <tr>\n",
       "      <th>69998</th>\n",
       "      <td>0.0</td>\n",
       "      <td>0.0</td>\n",
       "      <td>0.0</td>\n",
       "      <td>0.0</td>\n",
       "      <td>0.0</td>\n",
       "      <td>0.0</td>\n",
       "      <td>0.0</td>\n",
       "      <td>1.0</td>\n",
       "    </tr>\n",
       "    <tr>\n",
       "      <th>69999</th>\n",
       "      <td>0.0</td>\n",
       "      <td>0.0</td>\n",
       "      <td>1.0</td>\n",
       "      <td>0.0</td>\n",
       "      <td>0.0</td>\n",
       "      <td>0.0</td>\n",
       "      <td>0.0</td>\n",
       "      <td>0.0</td>\n",
       "    </tr>\n",
       "  </tbody>\n",
       "</table>\n",
       "<p>68662 rows × 8 columns</p>\n",
       "</div>"
      ],
      "text/plain": [
       "         0    1    2    3    4    5    6    7\n",
       "0      0.0  0.0  1.0  0.0  0.0  0.0  0.0  0.0\n",
       "1      0.0  0.0  1.0  0.0  0.0  0.0  0.0  0.0\n",
       "2      0.0  0.0  0.0  0.0  0.0  0.0  0.0  1.0\n",
       "3      0.0  0.0  1.0  0.0  0.0  0.0  0.0  0.0\n",
       "4      0.0  0.0  0.0  0.0  0.0  0.0  0.0  1.0\n",
       "...    ...  ...  ...  ...  ...  ...  ...  ...\n",
       "69995  0.0  0.0  0.0  0.0  0.0  0.0  1.0  0.0\n",
       "69996  0.0  0.0  1.0  0.0  0.0  0.0  0.0  0.0\n",
       "69997  1.0  0.0  0.0  0.0  0.0  0.0  0.0  0.0\n",
       "69998  0.0  0.0  0.0  0.0  0.0  0.0  0.0  1.0\n",
       "69999  0.0  0.0  1.0  0.0  0.0  0.0  0.0  0.0\n",
       "\n",
       "[68662 rows x 8 columns]"
      ]
     },
     "execution_count": 104,
     "metadata": {},
     "output_type": "execute_result"
    }
   ],
   "source": [
    "# TODO: Make it better!!!\n",
    "\n",
    "oh_encoder = OneHotEncoder(handle_unknown='ignore', sparse=False)\n",
    "\n",
    "oh_columns = ['lifestyle']\n",
    "\n",
    "oh_data = pd.DataFrame(oh_encoder.fit_transform(cat_data1[oh_columns]))\n",
    "\n",
    "# bring back the index\n",
    "oh_data.index = cat_data1.index\n",
    "oh_data"
   ]
  },
  {
   "cell_type": "code",
   "execution_count": 97,
   "id": "f66be6b0",
   "metadata": {},
   "outputs": [],
   "source": [
    "# TODO: Wróć do podziału na train i test, w czym jest problem? (Walidacja krzyżowa)"
   ]
  },
  {
   "cell_type": "code",
   "execution_count": null,
   "id": "556bafe9",
   "metadata": {},
   "outputs": [],
   "source": []
  },
  {
   "cell_type": "code",
   "execution_count": null,
   "id": "78dc1f6d",
   "metadata": {},
   "outputs": [],
   "source": []
  }
 ],
 "metadata": {
  "kernelspec": {
   "display_name": "Python 3 (ipykernel)",
   "language": "python",
   "name": "python3"
  },
  "language_info": {
   "codemirror_mode": {
    "name": "ipython",
    "version": 3
   },
   "file_extension": ".py",
   "mimetype": "text/x-python",
   "name": "python",
   "nbconvert_exporter": "python",
   "pygments_lexer": "ipython3",
   "version": "3.7.11"
  }
 },
 "nbformat": 4,
 "nbformat_minor": 5
}
