{
 "cells": [
  {
   "cell_type": "code",
   "execution_count": 1,
   "id": "9c7b10c2",
   "metadata": {},
   "outputs": [],
   "source": [
    "import pandas as pd\n",
    "import numpy as np\n",
    "\n",
    "# helpers\n",
    "from helpers import evaluate_test\n",
    "\n",
    "from sklearn.linear_model import LogisticRegression\n",
    "from sklearn.metrics import accuracy_score\n",
    "from sklearn.model_selection import train_test_split\n",
    "\n",
    "# Wisienka na koniec\n",
    "from sklearn.svm import SVC\n",
    "from sklearn.ensemble import RandomForestClassifier\n",
    "\n",
    "# Visualization\n",
    "import matplotlib.pyplot as plt\n",
    "import seaborn as sns\n",
    "\n",
    "from tqdm.notebook import tqdm\n",
    "\n",
    "# Warnings will not pass!\n",
    "import warnings\n",
    "warnings.filterwarnings('ignore')\n",
    "%load_ext autoreload\n",
    "%autoreload 2"
   ]
  },
  {
   "cell_type": "markdown",
   "id": "fc073bb3",
   "metadata": {},
   "source": [
    "### Importing data and initial look into it"
   ]
  },
  {
   "cell_type": "code",
   "execution_count": 2,
   "id": "2c3098b8",
   "metadata": {},
   "outputs": [],
   "source": [
    "train_data = pd.read_csv('data/train_data.csv')\n",
    "test_features = pd.read_csv('data/test_features.csv')\n",
    "test_labels = pd.read_csv('data/test_labels.csv')"
   ]
  },
  {
   "cell_type": "code",
   "execution_count": 3,
   "id": "8a964b0e",
   "metadata": {},
   "outputs": [
    {
     "name": "stdout",
     "output_type": "stream",
     "text": [
      "<class 'pandas.core.frame.DataFrame'>\n",
      "RangeIndex: 52500 entries, 0 to 52499\n",
      "Data columns (total 11 columns):\n",
      " #   Column         Non-Null Count  Dtype  \n",
      "---  ------         --------------  -----  \n",
      " 0   id             52500 non-null  int64  \n",
      " 1   age            52500 non-null  int64  \n",
      " 2   gender         50955 non-null  object \n",
      " 3   height         51464 non-null  float64\n",
      " 4   weight         50434 non-null  float64\n",
      " 5   ap_hi          52500 non-null  int64  \n",
      " 6   ap_lo          52500 non-null  int64  \n",
      " 7   cholesterol    52500 non-null  object \n",
      " 8   gluc           52500 non-null  object \n",
      " 9   lifestyle      43143 non-null  object \n",
      " 10  is_cardio_ill  52500 non-null  int64  \n",
      "dtypes: float64(2), int64(5), object(4)\n",
      "memory usage: 4.4+ MB\n"
     ]
    }
   ],
   "source": [
    "train_data.info()"
   ]
  },
  {
   "cell_type": "code",
   "execution_count": 4,
   "id": "bf7bd981",
   "metadata": {},
   "outputs": [
    {
     "name": "stdout",
     "output_type": "stream",
     "text": [
      "<class 'pandas.core.frame.DataFrame'>\n",
      "RangeIndex: 17123 entries, 0 to 17122\n",
      "Data columns (total 10 columns):\n",
      " #   Column       Non-Null Count  Dtype  \n",
      "---  ------       --------------  -----  \n",
      " 0   id           17123 non-null  int64  \n",
      " 1   age          17123 non-null  int64  \n",
      " 2   gender       17123 non-null  object \n",
      " 3   height       17123 non-null  int64  \n",
      " 4   weight       17123 non-null  float64\n",
      " 5   ap_hi        17123 non-null  int64  \n",
      " 6   ap_lo        17123 non-null  int64  \n",
      " 7   cholesterol  17123 non-null  object \n",
      " 8   gluc         17123 non-null  object \n",
      " 9   lifestyle    14104 non-null  object \n",
      "dtypes: float64(1), int64(5), object(4)\n",
      "memory usage: 1.3+ MB\n"
     ]
    }
   ],
   "source": [
    "test_features.info()"
   ]
  },
  {
   "cell_type": "code",
   "execution_count": 5,
   "id": "d72fc733",
   "metadata": {},
   "outputs": [],
   "source": [
    "train_data.drop('id', axis=1, inplace=True)"
   ]
  },
  {
   "cell_type": "markdown",
   "id": "4ed2a212",
   "metadata": {},
   "source": [
    "### Random submission"
   ]
  },
  {
   "cell_type": "code",
   "execution_count": 6,
   "id": "03eeef7a",
   "metadata": {},
   "outputs": [
    {
     "name": "stdout",
     "output_type": "stream",
     "text": [
      "Dumb model accuracy: 50.71%\n"
     ]
    }
   ],
   "source": [
    "# Everyone is sick\n",
    "test_labels.value_counts()\n",
    "preds = np.ones(len(test_labels))\n",
    "\n",
    "acc = accuracy_score(test_labels, preds)\n",
    "if acc < 0.5:\n",
    "    preds = np.zeros(len(test_labels))\n",
    "    acc = accuracy_score(test_labels, preds)\n",
    "print(f\"Dumb model accuracy: {np.round(100 * acc, 3)}%\")"
   ]
  },
  {
   "cell_type": "markdown",
   "id": "a37412c2",
   "metadata": {},
   "source": [
    "### Splitting datasets - why the heck do we need this?"
   ]
  },
  {
   "cell_type": "code",
   "execution_count": 7,
   "id": "10937021",
   "metadata": {},
   "outputs": [],
   "source": [
    "train_X, val_X, train_y, val_y = train_test_split(\n",
    "    train_data.drop(\"is_cardio_ill\", axis=1),\n",
    "    train_data['is_cardio_ill'],\n",
    "    test_size=0.3,\n",
    "    random_state=42\n",
    ")"
   ]
  },
  {
   "cell_type": "markdown",
   "id": "97b361a6",
   "metadata": {},
   "source": [
    "### Baseline train"
   ]
  },
  {
   "cell_type": "markdown",
   "id": "bcc4277b",
   "metadata": {},
   "source": [
    "1. Problem with categorical features\n",
    "2. Problem with missing values"
   ]
  },
  {
   "cell_type": "code",
   "execution_count": 8,
   "id": "bf31b2dc",
   "metadata": {},
   "outputs": [
    {
     "name": "stdout",
     "output_type": "stream",
     "text": [
      "Baseline Model val accuracy: 69.5%\n",
      "Baseline Model test accuracy: 69.38%\n"
     ]
    }
   ],
   "source": [
    "# categorical features - just remove them\n",
    "train_X_dumb = train_X.drop(['gender', 'cholesterol', 'gluc', 'lifestyle'], axis=1)\n",
    "val_X_dumb = val_X.drop(['gender', 'cholesterol', 'gluc', 'lifestyle'], axis=1)\n",
    "\n",
    "test_X_dumb = test_features.drop(['id', 'gender', 'cholesterol', 'gluc', 'lifestyle'], axis=1)\n",
    "\n",
    "# Missing values - drop records\n",
    "train_X_dumb.dropna(inplace=True)\n",
    "train_y_dumb = train_y.loc[train_X_dumb.index]\n",
    "\n",
    "val_X_dumb.dropna(inplace=True)\n",
    "val_y_dumb = val_y.loc[val_X_dumb.index]\n",
    "\n",
    "def evaluate_model(train_X, train_y, val_X, val_y, test_X, model_name=\"\"):\n",
    "    \n",
    "    assert len(train_X) == len(train_y), \"Lengths in the train set mismatch\"\n",
    "    assert len(val_X) == len(val_y), \"Lengths in the validation set mismatch\"\n",
    "    assert train_X.shape[1] == val_X.shape[1], \"Numbers of features in train and val sets mismatch\"\n",
    "    assert train_X.shape[1] == test_X.shape[1], \"Numbers of features in train and test sets mismatch\"\n",
    "    \n",
    "    model = LogisticRegression()\n",
    "    model.fit(train_X, train_y)\n",
    "    preds_val = model.predict(val_X)\n",
    "    preds_test = model.predict(test_X)\n",
    "    \n",
    "    acc_val = accuracy_score(val_y, preds_val)\n",
    "    print(f\"{model_name} Model val accuracy: {round(100 * acc_val, 2)}%\")\n",
    "    \n",
    "    acc_test = evaluate_test(preds_test)\n",
    "    print(f\"{model_name} Model test accuracy: {round(100 * acc_test, 2)}%\")\n",
    "    \n",
    "evaluate_model(train_X_dumb, train_y_dumb, val_X_dumb, val_y_dumb, test_X_dumb, model_name=\"Baseline\")\n",
    "# train_X_dumb.shape"
   ]
  },
  {
   "cell_type": "markdown",
   "id": "4e631c15",
   "metadata": {},
   "source": [
    "### Not bad, but can we do better?"
   ]
  },
  {
   "cell_type": "markdown",
   "id": "64bc7c92",
   "metadata": {},
   "source": [
    "<img src=\"https://i.pinimg.com/736x/a8/ef/58/a8ef58e480da3676dc81f0ffc191807b--swimmer-girl-problems-jeep-humor.jpg\" width=400 height=400 />"
   ]
  },
  {
   "cell_type": "markdown",
   "id": "711b0b70",
   "metadata": {},
   "source": [
    "Src: https://i.pinimg.com/736x/a8/ef/58/a8ef58e480da3676dc81f0ffc191807b--swimmer-girl-problems-jeep-humor.jpg"
   ]
  },
  {
   "cell_type": "markdown",
   "id": "224b0bd4",
   "metadata": {},
   "source": [
    "### Sklearn - not only for learning"
   ]
  },
  {
   "cell_type": "code",
   "execution_count": 9,
   "id": "72b3ed39",
   "metadata": {},
   "outputs": [],
   "source": [
    "from sklearn.preprocessing import OrdinalEncoder, OneHotEncoder, StandardScaler, MinMaxScaler\n",
    "from sklearn.impute import SimpleImputer, KNNImputer\n",
    "from sklearn.model_selection import train_test_split, cross_validate, GridSearchCV, RandomizedSearchCV"
   ]
  },
  {
   "cell_type": "markdown",
   "id": "dc4adc18",
   "metadata": {},
   "source": [
    "### TODO: Imputation"
   ]
  },
  {
   "cell_type": "code",
   "execution_count": 10,
   "id": "6cb90156",
   "metadata": {},
   "outputs": [
    {
     "name": "stdout",
     "output_type": "stream",
     "text": [
      "<class 'pandas.core.frame.DataFrame'>\n",
      "Int64Index: 36750 entries, 17904 to 15795\n",
      "Data columns (total 9 columns):\n",
      " #   Column       Non-Null Count  Dtype  \n",
      "---  ------       --------------  -----  \n",
      " 0   age          36750 non-null  int64  \n",
      " 1   gender       35644 non-null  object \n",
      " 2   height       36023 non-null  float64\n",
      " 3   weight       35292 non-null  float64\n",
      " 4   ap_hi        36750 non-null  int64  \n",
      " 5   ap_lo        36750 non-null  int64  \n",
      " 6   cholesterol  36750 non-null  object \n",
      " 7   gluc         36750 non-null  object \n",
      " 8   lifestyle    30232 non-null  object \n",
      "dtypes: float64(2), int64(3), object(4)\n",
      "memory usage: 2.8+ MB\n"
     ]
    }
   ],
   "source": [
    "train_X.info()"
   ]
  },
  {
   "cell_type": "code",
   "execution_count": 11,
   "id": "39462ac4",
   "metadata": {},
   "outputs": [
    {
     "data": {
      "text/plain": [
       "Text(0.5, 0, 'weight')"
      ]
     },
     "execution_count": 11,
     "metadata": {},
     "output_type": "execute_result"
    },
    {
     "data": {
      "image/png": "[encoded data removed]",
      "text/plain": [
       "<Figure size 1152x288 with 2 Axes>"
      ]
     },
     "metadata": {
      "needs_background": "light"
     },
     "output_type": "display_data"
    }
   ],
   "source": [
    "plt.rcParams['figure.figsize'] = 16, 4\n",
    "fig, (ax0, ax1)= plt.subplots(1, 2)\n",
    "ax0.hist(train_X['height'])\n",
    "ax0.set_xlabel('height')\n",
    "ax1.hist(train_X['weight'])\n",
    "ax1.set_xlabel('weight')"
   ]
  },
  {
   "cell_type": "markdown",
   "id": "508dc93e",
   "metadata": {},
   "source": [
    "#### Numerical Imputation"
   ]
  },
  {
   "cell_type": "markdown",
   "id": "6b91e465",
   "metadata": {},
   "source": [
    "<a href=\"https://scikit-learn.org/stable/modules/classes.html#module-sklearn.impute\">SimpleImputer</a>"
   ]
  },
  {
   "cell_type": "code",
   "execution_count": 12,
   "id": "46184cfd",
   "metadata": {},
   "outputs": [
    {
     "name": "stdout",
     "output_type": "stream",
     "text": [
      "\n",
      " Results using strategy most_frequent\n",
      " Model val accuracy: 69.52%\n",
      " Model test accuracy: 69.48%\n",
      "\n",
      " Results using strategy mean\n",
      " Model val accuracy: 69.53%\n",
      " Model test accuracy: 69.49%\n",
      "\n",
      " Results using strategy median\n",
      " Model val accuracy: 69.5%\n",
      " Model test accuracy: 69.51%\n"
     ]
    }
   ],
   "source": [
    "strategies = ['most_frequent', 'mean', 'median']\n",
    "\n",
    "for strategy in strategies:\n",
    "    \n",
    "    print(f'\\n Results using strategy {strategy}')\n",
    "    train_X_num = train_X.drop(['gender', 'cholesterol', 'gluc', 'lifestyle'], axis=1)\n",
    "    val_X_num = val_X.drop(['gender', 'cholesterol', 'gluc', 'lifestyle'], axis=1)\n",
    "\n",
    "    test_X_num = test_features.drop(['id', 'gender', 'cholesterol', 'gluc', 'lifestyle'], axis=1)\n",
    "    \n",
    "    imputer_num = SimpleImputer(missing_values=np.nan, strategy=strategy)\n",
    "    imputer_num.fit(train_X[['height', 'weight']])\n",
    "\n",
    "    transformed_train = imputer_num.transform(train_X[['height', 'weight']])\n",
    "    train_X_num[['height', 'weight']] = transformed_train\n",
    "\n",
    "    transformed_val = imputer_num.transform(val_X[['height', 'weight']])\n",
    "    val_X_num[['height', 'weight']] = transformed_val\n",
    "\n",
    "    transformed_test = imputer_num.transform(test_features[['height', 'weight']])\n",
    "    test_X_num[['height', 'weight']] = transformed_test\n",
    "\n",
    "    evaluate_model(train_X_num, train_y, val_X_num, val_y, test_X_num)\n",
    "\n",
    "# print(transformed_cols)\n",
    "# print(train_X[['height', 'weight']])"
   ]
  },
  {
   "cell_type": "markdown",
   "id": "cb04ee12",
   "metadata": {},
   "source": [
    "### Categorical imputation"
   ]
  },
  {
   "cell_type": "code",
   "execution_count": 13,
   "id": "4e6a168d",
   "metadata": {},
   "outputs": [
    {
     "data": {
      "text/plain": [
       "female    23145\n",
       "male      12499\n",
       "Name: gender, dtype: int64"
      ]
     },
     "execution_count": 13,
     "metadata": {},
     "output_type": "execute_result"
    }
   ],
   "source": [
    "train_X.gender.value_counts()"
   ]
  },
  {
   "cell_type": "code",
   "execution_count": 14,
   "id": "a5c3c38c",
   "metadata": {},
   "outputs": [
    {
     "data": {
      "text/plain": [
       "active                     25966\n",
       "smoker,active               1893\n",
       "alcoholic,active             846\n",
       "smoker,alcoholic,active      829\n",
       "smoker                       377\n",
       "smoker,alcoholic             162\n",
       "alcoholic                    159\n",
       "Name: lifestyle, dtype: int64"
      ]
     },
     "execution_count": 14,
     "metadata": {},
     "output_type": "execute_result"
    }
   ],
   "source": [
    "train_X.lifestyle.value_counts()"
   ]
  },
  {
   "cell_type": "markdown",
   "id": "a0a4f096",
   "metadata": {},
   "source": [
    "### Common sence cleaning"
   ]
  },
  {
   "cell_type": "code",
   "execution_count": 15,
   "id": "fe1ef753",
   "metadata": {},
   "outputs": [
    {
     "name": "stdout",
     "output_type": "stream",
     "text": [
      "Minimal High pressure is: -120\n",
      "Maximum High pressure is : 16020\n",
      "Minimal Low pressure is: -70\n",
      "Maximal Low pressure is: 10000\n"
     ]
    }
   ],
   "source": [
    "# train_X = train_X['ap_hi']\n",
    "print(f\"Minimal High pressure is: {train_X_num.ap_hi.min()}\")\n",
    "print(f\"Maximum High pressure is : {train_X_num.ap_hi.max()}\")\n",
    "\n",
    "print(f\"Minimal Low pressure is: {train_X_num.ap_lo.min()}\")\n",
    "print(f\"Maximal Low pressure is: {train_X_num.ap_lo.max()}\")\n"
   ]
  },
  {
   "cell_type": "code",
   "execution_count": 16,
   "id": "d8e15850",
   "metadata": {},
   "outputs": [
    {
     "data": {
      "text/plain": [
       "<AxesSubplot:>"
      ]
     },
     "execution_count": 16,
     "metadata": {},
     "output_type": "execute_result"
    },
    {
     "data": {
      "image/png": "[encoded data removed]",
      "text/plain": [
       "<Figure size 1152x288 with 1 Axes>"
      ]
     },
     "metadata": {
      "needs_background": "light"
     },
     "output_type": "display_data"
    }
   ],
   "source": [
    "train_X_num['ap_hi'] = np.abs(train_X['ap_hi'])\n",
    "train_X_num['ap_lo'] = np.abs(train_X['ap_lo'])\n",
    "\n",
    "train_X_num['ap_hi'].hist()\n",
    "train_X_num['ap_lo'].hist()"
   ]
  },
  {
   "cell_type": "code",
   "execution_count": 17,
   "id": "337e9135",
   "metadata": {},
   "outputs": [
    {
     "data": {
      "text/plain": [
       "<AxesSubplot:>"
      ]
     },
     "execution_count": 17,
     "metadata": {},
     "output_type": "execute_result"
    },
    {
     "data": {
      "image/png": "[encoded data removed]",
      "text/plain": [
       "<Figure size 1152x288 with 1 Axes>"
      ]
     },
     "metadata": {
      "needs_background": "light"
     },
     "output_type": "display_data"
    }
   ],
   "source": [
    "MAX_SYST = 210\n",
    "MAX_DIAST = 150\n",
    "MIN_SYST = 80\n",
    "MIN_DIAST = 50\n",
    "\n",
    "train_X_num = train_X_num[(train_X_num['ap_hi'] < MAX_SYST) & (train_X_num['ap_hi'] > MIN_SYST)]\n",
    "train_X_num = train_X_num[(train_X_num['ap_lo'] < MAX_DIAST) & (train_X_num['ap_lo'] > MIN_DIAST)]\n",
    "train_y_num = train_y[train_X_num.index]\n",
    "\n",
    "train_X_num['ap_hi'].hist()\n",
    "train_X_num['ap_lo'].hist()"
   ]
  },
  {
   "cell_type": "code",
   "execution_count": 18,
   "id": "0ae5e860",
   "metadata": {},
   "outputs": [
    {
     "data": {
      "text/plain": [
       "<AxesSubplot:>"
      ]
     },
     "execution_count": 18,
     "metadata": {},
     "output_type": "execute_result"
    },
    {
     "data": {
      "image/png": "[encoded data removed]",
      "text/plain": [
       "<Figure size 1152x288 with 1 Axes>"
      ]
     },
     "metadata": {
      "needs_background": "light"
     },
     "output_type": "display_data"
    }
   ],
   "source": [
    "### Repeat for validation set\n",
    "val_X_num['ap_hi'] = np.abs(val_X_num['ap_hi'])\n",
    "val_X_num['ap_lo'] = np.abs(val_X_num['ap_lo'])\n",
    "\n",
    "val_X_num = val_X_num[(val_X_num['ap_hi'] < MAX_SYST) & (val_X_num['ap_hi'] > MIN_SYST)]\n",
    "val_X_num = val_X_num[(val_X_num['ap_lo'] < MAX_DIAST) & (val_X_num['ap_lo'] > MIN_DIAST)]\n",
    "val_y_num = val_y[val_X_num.index]\n",
    "\n",
    "val_X_num['ap_hi'].hist()\n",
    "val_X_num['ap_lo'].hist()"
   ]
  },
  {
   "cell_type": "markdown",
   "id": "71560a2c",
   "metadata": {},
   "source": [
    "#### Let's train"
   ]
  },
  {
   "cell_type": "code",
   "execution_count": 19,
   "id": "70448e0f",
   "metadata": {},
   "outputs": [
    {
     "name": "stdout",
     "output_type": "stream",
     "text": [
      " Model val accuracy: 70.14%\n",
      " Model test accuracy: 70.13%\n"
     ]
    }
   ],
   "source": [
    "evaluate_model(train_X_num, train_y_num, val_X_num, val_y_num, test_X_num)"
   ]
  },
  {
   "cell_type": "markdown",
   "id": "4adb19ed",
   "metadata": {},
   "source": [
    "### Categorical features - encoding"
   ]
  },
  {
   "cell_type": "code",
   "execution_count": 20,
   "id": "2e104271",
   "metadata": {},
   "outputs": [
    {
     "data": {
      "text/html": [
       "<div>\n",
       "<style scoped>\n",
       "    .dataframe tbody tr th:only-of-type {\n",
       "        vertical-align: middle;\n",
       "    }\n",
       "\n",
       "    .dataframe tbody tr th {\n",
       "        vertical-align: top;\n",
       "    }\n",
       "\n",
       "    .dataframe thead th {\n",
       "        text-align: right;\n",
       "    }\n",
       "</style>\n",
       "<table border=\"1\" class=\"dataframe\">\n",
       "  <thead>\n",
       "    <tr style=\"text-align: right;\">\n",
       "      <th></th>\n",
       "      <th>age</th>\n",
       "      <th>gender</th>\n",
       "      <th>height</th>\n",
       "      <th>weight</th>\n",
       "      <th>ap_hi</th>\n",
       "      <th>ap_lo</th>\n",
       "      <th>cholesterol</th>\n",
       "      <th>gluc</th>\n",
       "      <th>lifestyle</th>\n",
       "    </tr>\n",
       "  </thead>\n",
       "  <tbody>\n",
       "    <tr>\n",
       "      <th>17904</th>\n",
       "      <td>17366</td>\n",
       "      <td>male</td>\n",
       "      <td>176.0</td>\n",
       "      <td>73.0</td>\n",
       "      <td>100</td>\n",
       "      <td>70</td>\n",
       "      <td>normal</td>\n",
       "      <td>normal</td>\n",
       "      <td>active</td>\n",
       "    </tr>\n",
       "    <tr>\n",
       "      <th>42671</th>\n",
       "      <td>16534</td>\n",
       "      <td>female</td>\n",
       "      <td>153.0</td>\n",
       "      <td>60.0</td>\n",
       "      <td>120</td>\n",
       "      <td>70</td>\n",
       "      <td>normal</td>\n",
       "      <td>normal</td>\n",
       "      <td>active</td>\n",
       "    </tr>\n",
       "    <tr>\n",
       "      <th>30389</th>\n",
       "      <td>23265</td>\n",
       "      <td>male</td>\n",
       "      <td>173.0</td>\n",
       "      <td>73.0</td>\n",
       "      <td>160</td>\n",
       "      <td>100</td>\n",
       "      <td>normal</td>\n",
       "      <td>normal</td>\n",
       "      <td>active</td>\n",
       "    </tr>\n",
       "    <tr>\n",
       "      <th>14423</th>\n",
       "      <td>21789</td>\n",
       "      <td>female</td>\n",
       "      <td>175.0</td>\n",
       "      <td>70.0</td>\n",
       "      <td>120</td>\n",
       "      <td>80</td>\n",
       "      <td>normal</td>\n",
       "      <td>normal</td>\n",
       "      <td>active</td>\n",
       "    </tr>\n",
       "    <tr>\n",
       "      <th>31424</th>\n",
       "      <td>19439</td>\n",
       "      <td>male</td>\n",
       "      <td>169.0</td>\n",
       "      <td>53.0</td>\n",
       "      <td>140</td>\n",
       "      <td>90</td>\n",
       "      <td>normal</td>\n",
       "      <td>normal</td>\n",
       "      <td>active</td>\n",
       "    </tr>\n",
       "    <tr>\n",
       "      <th>...</th>\n",
       "      <td>...</td>\n",
       "      <td>...</td>\n",
       "      <td>...</td>\n",
       "      <td>...</td>\n",
       "      <td>...</td>\n",
       "      <td>...</td>\n",
       "      <td>...</td>\n",
       "      <td>...</td>\n",
       "      <td>...</td>\n",
       "    </tr>\n",
       "    <tr>\n",
       "      <th>11284</th>\n",
       "      <td>22817</td>\n",
       "      <td>female</td>\n",
       "      <td>168.0</td>\n",
       "      <td>85.0</td>\n",
       "      <td>130</td>\n",
       "      <td>80</td>\n",
       "      <td>way above normal</td>\n",
       "      <td>way above normal</td>\n",
       "      <td>active</td>\n",
       "    </tr>\n",
       "    <tr>\n",
       "      <th>44732</th>\n",
       "      <td>19794</td>\n",
       "      <td>female</td>\n",
       "      <td>157.0</td>\n",
       "      <td>80.0</td>\n",
       "      <td>120</td>\n",
       "      <td>80</td>\n",
       "      <td>normal</td>\n",
       "      <td>normal</td>\n",
       "      <td>active</td>\n",
       "    </tr>\n",
       "    <tr>\n",
       "      <th>38158</th>\n",
       "      <td>19879</td>\n",
       "      <td>female</td>\n",
       "      <td>150.0</td>\n",
       "      <td>80.0</td>\n",
       "      <td>140</td>\n",
       "      <td>80</td>\n",
       "      <td>normal</td>\n",
       "      <td>normal</td>\n",
       "      <td>active</td>\n",
       "    </tr>\n",
       "    <tr>\n",
       "      <th>860</th>\n",
       "      <td>21158</td>\n",
       "      <td>male</td>\n",
       "      <td>168.0</td>\n",
       "      <td>83.0</td>\n",
       "      <td>110</td>\n",
       "      <td>70</td>\n",
       "      <td>way above normal</td>\n",
       "      <td>normal</td>\n",
       "      <td>active</td>\n",
       "    </tr>\n",
       "    <tr>\n",
       "      <th>15795</th>\n",
       "      <td>18483</td>\n",
       "      <td>male</td>\n",
       "      <td>173.0</td>\n",
       "      <td>71.0</td>\n",
       "      <td>140</td>\n",
       "      <td>90</td>\n",
       "      <td>way above normal</td>\n",
       "      <td>way above normal</td>\n",
       "      <td>smoker,alcoholic,active</td>\n",
       "    </tr>\n",
       "  </tbody>\n",
       "</table>\n",
       "<p>36750 rows × 9 columns</p>\n",
       "</div>"
      ],
      "text/plain": [
       "         age  gender  height  weight  ap_hi  ap_lo       cholesterol  \\\n",
       "17904  17366    male   176.0    73.0    100     70            normal   \n",
       "42671  16534  female   153.0    60.0    120     70            normal   \n",
       "30389  23265    male   173.0    73.0    160    100            normal   \n",
       "14423  21789  female   175.0    70.0    120     80            normal   \n",
       "31424  19439    male   169.0    53.0    140     90            normal   \n",
       "...      ...     ...     ...     ...    ...    ...               ...   \n",
       "11284  22817  female   168.0    85.0    130     80  way above normal   \n",
       "44732  19794  female   157.0    80.0    120     80            normal   \n",
       "38158  19879  female   150.0    80.0    140     80            normal   \n",
       "860    21158    male   168.0    83.0    110     70  way above normal   \n",
       "15795  18483    male   173.0    71.0    140     90  way above normal   \n",
       "\n",
       "                   gluc                lifestyle  \n",
       "17904            normal                   active  \n",
       "42671            normal                   active  \n",
       "30389            normal                   active  \n",
       "14423            normal                   active  \n",
       "31424            normal                   active  \n",
       "...                 ...                      ...  \n",
       "11284  way above normal                   active  \n",
       "44732            normal                   active  \n",
       "38158            normal                   active  \n",
       "860              normal                   active  \n",
       "15795  way above normal  smoker,alcoholic,active  \n",
       "\n",
       "[36750 rows x 9 columns]"
      ]
     },
     "execution_count": 20,
     "metadata": {},
     "output_type": "execute_result"
    }
   ],
   "source": [
    "train_X"
   ]
  },
  {
   "cell_type": "code",
   "execution_count": 21,
   "id": "369aa26e",
   "metadata": {},
   "outputs": [],
   "source": [
    "train_X_cat = train_X.loc[train_X_num.index, ['gender', 'cholesterol', 'gluc', 'lifestyle']]\n",
    "val_X_cat = val_X.loc[val_X_num.index, ['gender', 'cholesterol', 'gluc', 'lifestyle']]\n",
    "test_X_cat = test_features.loc[test_X_num.index, ['gender', 'cholesterol', 'gluc', 'lifestyle']]"
   ]
  },
  {
   "cell_type": "markdown",
   "id": "94526524",
   "metadata": {},
   "source": [
    "#### TODO: Ordinal encoding"
   ]
  },
  {
   "cell_type": "code",
   "execution_count": 22,
   "id": "2082e1a7",
   "metadata": {},
   "outputs": [
    {
     "name": "stdout",
     "output_type": "stream",
     "text": [
      "Train cholesterol: ['normal' 'way above normal' 'above normal']\n",
      "Train glucose: ['normal' 'way above normal' 'above normal']\n",
      "\n",
      "Val cholesterol: ['normal' 'above normal' 'way above normal']\n",
      "Val glucose: ['normal' 'above normal' 'way above normal']\n",
      "\n",
      "Test cholesterol: ['above normal' 'normal' 'way above normal']\n",
      "Test glucose: ['normal' 'way above normal' 'above normal']\n"
     ]
    }
   ],
   "source": [
    "print(f\"Train cholesterol: {train_X_cat['cholesterol'].unique()}\")\n",
    "print(f\"Train glucose: {train_X_cat['gluc'].unique()}\")\n",
    "\n",
    "print(f\"\\nVal cholesterol: {val_X_cat['cholesterol'].unique()}\")\n",
    "print(f\"Val glucose: {val_X_cat['gluc'].unique()}\")\n",
    "\n",
    "print(f\"\\nTest cholesterol: {test_X_cat['cholesterol'].unique()}\")\n",
    "print(f\"Test glucose: {train_X_cat['gluc'].unique()}\")"
   ]
  },
  {
   "cell_type": "code",
   "execution_count": 23,
   "id": "b22c91a7",
   "metadata": {},
   "outputs": [],
   "source": [
    "oe = OrdinalEncoder([['normal', 'above normal', 'way above normal'], ['normal', 'above normal', 'way above normal']])\n",
    "\n",
    "oe.fit(train_X_cat[['cholesterol', 'gluc']])\n",
    "\n",
    "ord_encoded_train = oe.transform(train_X_cat[['cholesterol', 'gluc']])\n",
    "train_X_cat[['cholesterol', 'gluc']] = ord_encoded_train\n",
    "\n",
    "ord_encoded_val = oe.transform(val_X_cat[['cholesterol', 'gluc']])\n",
    "val_X_cat[['cholesterol', 'gluc']] = ord_encoded_val\n",
    "\n",
    "ord_encoded_test = oe.transform(test_X_cat[['cholesterol', 'gluc']])\n",
    "test_X_cat[['cholesterol', 'gluc']] = ord_encoded_test"
   ]
  },
  {
   "cell_type": "code",
   "execution_count": 24,
   "id": "6efecbc4",
   "metadata": {},
   "outputs": [
    {
     "data": {
      "text/html": [
       "<div>\n",
       "<style scoped>\n",
       "    .dataframe tbody tr th:only-of-type {\n",
       "        vertical-align: middle;\n",
       "    }\n",
       "\n",
       "    .dataframe tbody tr th {\n",
       "        vertical-align: top;\n",
       "    }\n",
       "\n",
       "    .dataframe thead th {\n",
       "        text-align: right;\n",
       "    }\n",
       "</style>\n",
       "<table border=\"1\" class=\"dataframe\">\n",
       "  <thead>\n",
       "    <tr style=\"text-align: right;\">\n",
       "      <th></th>\n",
       "      <th>gender</th>\n",
       "      <th>cholesterol</th>\n",
       "      <th>gluc</th>\n",
       "      <th>lifestyle</th>\n",
       "    </tr>\n",
       "  </thead>\n",
       "  <tbody>\n",
       "    <tr>\n",
       "      <th>17904</th>\n",
       "      <td>male</td>\n",
       "      <td>0.0</td>\n",
       "      <td>0.0</td>\n",
       "      <td>active</td>\n",
       "    </tr>\n",
       "    <tr>\n",
       "      <th>42671</th>\n",
       "      <td>female</td>\n",
       "      <td>0.0</td>\n",
       "      <td>0.0</td>\n",
       "      <td>active</td>\n",
       "    </tr>\n",
       "    <tr>\n",
       "      <th>30389</th>\n",
       "      <td>male</td>\n",
       "      <td>0.0</td>\n",
       "      <td>0.0</td>\n",
       "      <td>active</td>\n",
       "    </tr>\n",
       "    <tr>\n",
       "      <th>14423</th>\n",
       "      <td>female</td>\n",
       "      <td>0.0</td>\n",
       "      <td>0.0</td>\n",
       "      <td>active</td>\n",
       "    </tr>\n",
       "    <tr>\n",
       "      <th>31424</th>\n",
       "      <td>male</td>\n",
       "      <td>0.0</td>\n",
       "      <td>0.0</td>\n",
       "      <td>active</td>\n",
       "    </tr>\n",
       "    <tr>\n",
       "      <th>...</th>\n",
       "      <td>...</td>\n",
       "      <td>...</td>\n",
       "      <td>...</td>\n",
       "      <td>...</td>\n",
       "    </tr>\n",
       "    <tr>\n",
       "      <th>11284</th>\n",
       "      <td>female</td>\n",
       "      <td>2.0</td>\n",
       "      <td>2.0</td>\n",
       "      <td>active</td>\n",
       "    </tr>\n",
       "    <tr>\n",
       "      <th>44732</th>\n",
       "      <td>female</td>\n",
       "      <td>0.0</td>\n",
       "      <td>0.0</td>\n",
       "      <td>active</td>\n",
       "    </tr>\n",
       "    <tr>\n",
       "      <th>38158</th>\n",
       "      <td>female</td>\n",
       "      <td>0.0</td>\n",
       "      <td>0.0</td>\n",
       "      <td>active</td>\n",
       "    </tr>\n",
       "    <tr>\n",
       "      <th>860</th>\n",
       "      <td>male</td>\n",
       "      <td>2.0</td>\n",
       "      <td>0.0</td>\n",
       "      <td>active</td>\n",
       "    </tr>\n",
       "    <tr>\n",
       "      <th>15795</th>\n",
       "      <td>male</td>\n",
       "      <td>2.0</td>\n",
       "      <td>2.0</td>\n",
       "      <td>smoker,alcoholic,active</td>\n",
       "    </tr>\n",
       "  </tbody>\n",
       "</table>\n",
       "<p>35972 rows × 4 columns</p>\n",
       "</div>"
      ],
      "text/plain": [
       "       gender  cholesterol  gluc                lifestyle\n",
       "17904    male          0.0   0.0                   active\n",
       "42671  female          0.0   0.0                   active\n",
       "30389    male          0.0   0.0                   active\n",
       "14423  female          0.0   0.0                   active\n",
       "31424    male          0.0   0.0                   active\n",
       "...       ...          ...   ...                      ...\n",
       "11284  female          2.0   2.0                   active\n",
       "44732  female          0.0   0.0                   active\n",
       "38158  female          0.0   0.0                   active\n",
       "860      male          2.0   0.0                   active\n",
       "15795    male          2.0   2.0  smoker,alcoholic,active\n",
       "\n",
       "[35972 rows x 4 columns]"
      ]
     },
     "execution_count": 24,
     "metadata": {},
     "output_type": "execute_result"
    }
   ],
   "source": [
    "train_X_cat"
   ]
  },
  {
   "cell_type": "markdown",
   "id": "08f5fbe3",
   "metadata": {},
   "source": [
    "#### TODO: One Hot Encoding"
   ]
  },
  {
   "cell_type": "code",
   "execution_count": 25,
   "id": "88a49f01",
   "metadata": {},
   "outputs": [
    {
     "name": "stdout",
     "output_type": "stream",
     "text": [
      "<class 'pandas.core.frame.DataFrame'>\n",
      "Int64Index: 35972 entries, 17904 to 15795\n",
      "Data columns (total 2 columns):\n",
      " #   Column  Non-Null Count  Dtype\n",
      "---  ------  --------------  -----\n",
      " 0   female  35972 non-null  uint8\n",
      " 1   male    35972 non-null  uint8\n",
      "dtypes: uint8(2)\n",
      "memory usage: 351.3 KB\n"
     ]
    }
   ],
   "source": [
    "### Missing values are handled\n",
    "pd.get_dummies(train_X_cat.gender).info()"
   ]
  },
  {
   "cell_type": "code",
   "execution_count": 26,
   "id": "1e120ba8",
   "metadata": {},
   "outputs": [],
   "source": [
    "train_X_cat[['female', 'male']] = pd.get_dummies(train_X_cat.gender)\n",
    "val_X_cat[['female', 'male']] = pd.get_dummies(val_X_cat.gender)\n",
    "test_X_cat[['female', 'male']] = pd.get_dummies(test_X_cat.gender)"
   ]
  },
  {
   "cell_type": "code",
   "execution_count": 27,
   "id": "a234d793",
   "metadata": {},
   "outputs": [],
   "source": [
    "train_X_cat.drop('gender', axis=1, inplace=True)\n",
    "val_X_cat.drop('gender', axis=1, inplace=True)\n",
    "test_X_cat.drop('gender', axis=1, inplace=True)"
   ]
  },
  {
   "cell_type": "markdown",
   "id": "4c3e02d6",
   "metadata": {},
   "source": [
    "#### Custom function"
   ]
  },
  {
   "cell_type": "code",
   "execution_count": 28,
   "id": "a974c39a",
   "metadata": {},
   "outputs": [],
   "source": [
    "def encode_lifestyle(lifestyle_row) -> dict:\n",
    "    \n",
    "    lifestyle_dict = {\n",
    "        \"active\": 0,\n",
    "        \"smoker\": 0,\n",
    "        \"alcohol_consumer\": 0\n",
    "    }\n",
    "    \n",
    "    if lifestyle_row is not np.nan:\n",
    "        values = lifestyle_row.split(',')\n",
    "\n",
    "        if 'active' in values:\n",
    "            lifestyle_dict['active'] = 1\n",
    "\n",
    "        if 'smoker' in values:\n",
    "            lifestyle_dict['smoker'] = 1\n",
    "\n",
    "        if 'alcoholic' in values:\n",
    "            lifestyle_dict['alcohol_consumer'] = 1\n",
    "    \n",
    "    return lifestyle_dict"
   ]
  },
  {
   "cell_type": "code",
   "execution_count": 29,
   "id": "75ae56b1",
   "metadata": {},
   "outputs": [],
   "source": [
    "dicts_train = train_X_cat.lifestyle.apply(encode_lifestyle)\n",
    "lifestyle_df_train = pd.DataFrame(list(dicts_train.values), index=dicts_train.index)\n",
    "train_X_cat.drop('lifestyle', axis=1, inplace=True)\n",
    "train_X_cat = pd.concat([train_X_cat, lifestyle_df_train], axis=1)\n",
    "\n",
    "# the same for validation\n",
    "dicts_val = val_X_cat.lifestyle.apply(encode_lifestyle)\n",
    "lifestyle_df_val = pd.DataFrame(list(dicts_val.values), index=dicts_val.index)\n",
    "val_X_cat.drop('lifestyle', axis=1, inplace=True)\n",
    "val_X_cat = pd.concat([val_X_cat, lifestyle_df_val], axis=1)\n",
    "\n",
    "# the same for test\n",
    "dicts_test = test_X_cat.lifestyle.apply(encode_lifestyle)\n",
    "lifestyle_df_test = pd.DataFrame(list(dicts_test.values), index=dicts_test.index)\n",
    "test_X_cat.drop('lifestyle', axis=1, inplace=True)\n",
    "test_X_cat = pd.concat([test_X_cat, lifestyle_df_test], axis=1)\n"
   ]
  },
  {
   "cell_type": "markdown",
   "id": "2606bc3f",
   "metadata": {},
   "source": [
    "### Let's put together all of the data"
   ]
  },
  {
   "cell_type": "code",
   "execution_count": 30,
   "id": "585be185",
   "metadata": {},
   "outputs": [],
   "source": [
    "new_train_X = pd.concat([train_X_num, train_X_cat], axis=1)\n",
    "new_val_X = pd.concat([val_X_num, val_X_cat], axis=1)\n",
    "new_test_X = pd.concat([test_X_num, test_X_cat], axis=1)\n",
    "\n",
    "new_train_y = train_y[new_train_X.index]\n",
    "new_val_y = val_y[new_val_X.index]"
   ]
  },
  {
   "cell_type": "code",
   "execution_count": 31,
   "id": "da9cf433",
   "metadata": {},
   "outputs": [
    {
     "name": "stdout",
     "output_type": "stream",
     "text": [
      "<class 'pandas.core.frame.DataFrame'>\n",
      "Int64Index: 35972 entries, 17904 to 15795\n",
      "Data columns (total 12 columns):\n",
      " #   Column            Non-Null Count  Dtype  \n",
      "---  ------            --------------  -----  \n",
      " 0   age               35972 non-null  int64  \n",
      " 1   height            35972 non-null  float64\n",
      " 2   weight            35972 non-null  float64\n",
      " 3   ap_hi             35972 non-null  int64  \n",
      " 4   ap_lo             35972 non-null  int64  \n",
      " 5   cholesterol       35972 non-null  float64\n",
      " 6   gluc              35972 non-null  float64\n",
      " 7   female            35972 non-null  uint8  \n",
      " 8   male              35972 non-null  uint8  \n",
      " 9   active            35972 non-null  int64  \n",
      " 10  smoker            35972 non-null  int64  \n",
      " 11  alcohol_consumer  35972 non-null  int64  \n",
      "dtypes: float64(4), int64(6), uint8(2)\n",
      "memory usage: 3.1 MB\n"
     ]
    }
   ],
   "source": [
    "new_train_X.info()"
   ]
  },
  {
   "cell_type": "markdown",
   "id": "76c1850c",
   "metadata": {},
   "source": [
    "#### Training?"
   ]
  },
  {
   "cell_type": "code",
   "execution_count": 32,
   "id": "f6bbbd22",
   "metadata": {},
   "outputs": [
    {
     "name": "stdout",
     "output_type": "stream",
     "text": [
      " Model val accuracy: 70.1%\n",
      " Model test accuracy: 70.13%\n"
     ]
    }
   ],
   "source": [
    "evaluate_model(new_train_X, new_train_y, new_val_X, new_val_y, new_test_X)"
   ]
  },
  {
   "cell_type": "markdown",
   "id": "328b953a",
   "metadata": {},
   "source": [
    "### Maybe some feature engineering?"
   ]
  },
  {
   "cell_type": "code",
   "execution_count": 33,
   "id": "0f9cd169",
   "metadata": {},
   "outputs": [],
   "source": [
    "new_train_X['pressure_diff'] = new_train_X['ap_hi'] - new_train_X['ap_lo']\n",
    "new_val_X['pressure_diff'] = new_val_X['ap_hi'] - new_val_X['ap_lo']\n",
    "new_test_X['pressure_diff'] = new_test_X['ap_hi'] - new_test_X['ap_lo']"
   ]
  },
  {
   "cell_type": "code",
   "execution_count": 34,
   "id": "60369206",
   "metadata": {},
   "outputs": [
    {
     "name": "stdout",
     "output_type": "stream",
     "text": [
      " Model val accuracy: 70.3%\n",
      " Model test accuracy: 70.26%\n"
     ]
    }
   ],
   "source": [
    "evaluate_model(new_train_X, new_train_y, new_val_X, new_val_y, new_test_X)"
   ]
  },
  {
   "cell_type": "markdown",
   "id": "737bd932",
   "metadata": {},
   "source": [
    "### Scaling"
   ]
  },
  {
   "cell_type": "code",
   "execution_count": 36,
   "id": "77fd4e52",
   "metadata": {},
   "outputs": [],
   "source": [
    "min_max = MinMaxScaler()\n",
    "min_max.fit(new_train_X)\n",
    "\n",
    "new_train_X_sc = pd.DataFrame(min_max.transform(new_train_X), columns=new_train_X.columns)\n",
    "new_val_X_sc = pd.DataFrame(min_max.transform(new_val_X), columns=new_val_X.columns)\n",
    "new_test_X_sc = pd.DataFrame(min_max.transform(new_test_X), columns=new_test_X.columns)"
   ]
  },
  {
   "cell_type": "code",
   "execution_count": 37,
   "id": "1b5e3553",
   "metadata": {},
   "outputs": [
    {
     "name": "stdout",
     "output_type": "stream",
     "text": [
      " Model val accuracy: 72.76%\n",
      " Model test accuracy: 72.58%\n"
     ]
    }
   ],
   "source": [
    "evaluate_model(new_train_X_sc, new_train_y, new_val_X_sc, new_val_y, new_test_X_sc)"
   ]
  },
  {
   "cell_type": "markdown",
   "id": "cd190647",
   "metadata": {},
   "source": [
    "## We need to step back"
   ]
  },
  {
   "cell_type": "markdown",
   "id": "59fee7d4",
   "metadata": {},
   "source": [
    "![](https://media.giphy.com/media/KcQ7MHtLbgqDD1w5UR/giphy.gif)"
   ]
  },
  {
   "cell_type": "markdown",
   "id": "0b5f5914",
   "metadata": {},
   "source": [
    "### Cross validation and hyperparameter tuning on Random Forest Classifier\n",
    "Since LogisticRegression doesn't give you much hyperparameters to tune."
   ]
  },
  {
   "cell_type": "code",
   "execution_count": 38,
   "id": "bc90a2d0",
   "metadata": {},
   "outputs": [],
   "source": [
    "all_data_X = pd.concat([new_train_X_sc, new_val_X_sc])\n",
    "all_data_y = pd.concat([new_train_y, new_val_y])"
   ]
  },
  {
   "cell_type": "code",
   "execution_count": 39,
   "id": "e0939bc7",
   "metadata": {},
   "outputs": [
    {
     "name": "stdout",
     "output_type": "stream",
     "text": [
      "72.77%\n"
     ]
    }
   ],
   "source": [
    "log_reg_model = LogisticRegression()\n",
    "cross_values = cross_validate(log_reg_model, X=all_data_X, y=all_data_y, cv=5)\n",
    "print(f\"{round(100 * cross_values['test_score'].mean(), 2)}%\")"
   ]
  },
  {
   "cell_type": "markdown",
   "id": "cc0e345f",
   "metadata": {},
   "source": [
    "### Chosing hyperparams using cross validation"
   ]
  },
  {
   "cell_type": "markdown",
   "id": "3cd021a1",
   "metadata": {},
   "source": [
    "#### RandomForest - initial look"
   ]
  },
  {
   "cell_type": "code",
   "execution_count": 40,
   "id": "980ea306",
   "metadata": {},
   "outputs": [
    {
     "name": "stdout",
     "output_type": "stream",
     "text": [
      "72.9%\n"
     ]
    }
   ],
   "source": [
    "rf_model = RandomForestClassifier(n_estimators=11, max_depth=7, min_samples_leaf=5, random_state=0)\n",
    "cross_values_rf = cross_validate(rf_model, all_data_X, all_data_y, cv=5)\n",
    "print(f\"{round(100 * cross_values_rf['test_score'].mean(), 2)}%\")"
   ]
  },
  {
   "cell_type": "markdown",
   "id": "3682063b",
   "metadata": {},
   "source": [
    "### Searching for optimal hyperparameters\n",
    "\n",
    "#### IMPORTANT! Can train A LOT of time"
   ]
  },
  {
   "cell_type": "markdown",
   "id": "be2990f9",
   "metadata": {},
   "source": [
    "#### Grid Search CV"
   ]
  },
  {
   "cell_type": "code",
   "execution_count": 44,
   "id": "217ce271",
   "metadata": {},
   "outputs": [
    {
     "name": "stdout",
     "output_type": "stream",
     "text": [
      "Fitting 5 folds for each of 225 candidates, totalling 1125 fits\n"
     ]
    },
    {
     "name": "stderr",
     "output_type": "stream",
     "text": [
      "\r",
      "0it [00:00, ?it/s]"
     ]
    },
    {
     "data": {
      "text/plain": [
       "<tqdm.std.tqdm at 0x1a27816eb48>"
      ]
     },
     "execution_count": 44,
     "metadata": {},
     "output_type": "execute_result"
    }
   ],
   "source": [
    "from tqdm import tqdm\n",
    "rf_model = RandomForestClassifier()\n",
    "parameters = {\n",
    "    \"n_estimators\": [3, 5, 9, 11, 21],\n",
    "    \"max_depth\": [2, 3, 5, 10, 15],\n",
    "    \"min_samples_split\": [2, 5, 10],\n",
    "    \"min_samples_leaf\": [2, 5, 10]\n",
    "}\n",
    "\n",
    "clf = GridSearchCV(estimator=rf_model, param_grid=parameters, verbose=True, n_jobs=3)\n",
    "tqdm(clf.fit(all_data_X, all_data_y))"
   ]
  },
  {
   "cell_type": "code",
   "execution_count": 45,
   "id": "801d5136",
   "metadata": {},
   "outputs": [],
   "source": [
    "best_grid = clf.best_estimator_"
   ]
  },
  {
   "cell_type": "code",
   "execution_count": 52,
   "id": "1b050036",
   "metadata": {},
   "outputs": [
    {
     "name": "stdout",
     "output_type": "stream",
     "text": [
      "Best GS accuracy on test: 73.077%\n"
     ]
    }
   ],
   "source": [
    "preds_test = best_grid.predict(new_test_X_sc)\n",
    "acc_test = evaluate_test(preds_test)\n",
    "print(f\"Best GS accuracy on test: {round(100 * acc_test, 3)}%\")"
   ]
  },
  {
   "cell_type": "markdown",
   "id": "a094349a",
   "metadata": {},
   "source": [
    "#### TODO: Random Search CV"
   ]
  },
  {
   "cell_type": "code",
   "execution_count": 55,
   "id": "4221f053",
   "metadata": {},
   "outputs": [
    {
     "data": {
      "text/plain": [
       "array([[<AxesSubplot:title={'center':'age'}>,\n",
       "        <AxesSubplot:title={'center':'height'}>,\n",
       "        <AxesSubplot:title={'center':'weight'}>,\n",
       "        <AxesSubplot:title={'center':'ap_hi'}>],\n",
       "       [<AxesSubplot:title={'center':'ap_lo'}>,\n",
       "        <AxesSubplot:title={'center':'cholesterol'}>,\n",
       "        <AxesSubplot:title={'center':'gluc'}>,\n",
       "        <AxesSubplot:title={'center':'female'}>],\n",
       "       [<AxesSubplot:title={'center':'male'}>,\n",
       "        <AxesSubplot:title={'center':'active'}>,\n",
       "        <AxesSubplot:title={'center':'smoker'}>,\n",
       "        <AxesSubplot:title={'center':'alcohol_consumer'}>],\n",
       "       [<AxesSubplot:title={'center':'pressure_diff'}>, <AxesSubplot:>,\n",
       "        <AxesSubplot:>, <AxesSubplot:>]], dtype=object)"
      ]
     },
     "execution_count": 55,
     "metadata": {},
     "output_type": "execute_result"
    },
    {
     "data": {
      "image/png": "[encoded data removed]",
      "text/plain": [
       "<Figure size 1152x288 with 16 Axes>"
      ]
     },
     "metadata": {
      "needs_background": "light"
     },
     "output_type": "display_data"
    }
   ],
   "source": [
    "all_data_X.hist()"
   ]
  },
  {
   "cell_type": "code",
   "execution_count": 58,
   "id": "ab4ff6b9",
   "metadata": {},
   "outputs": [
    {
     "name": "stdout",
     "output_type": "stream",
     "text": [
      "Fitting 5 folds for each of 10 candidates, totalling 50 fits\n"
     ]
    },
    {
     "data": {
      "text/plain": [
       "RandomizedSearchCV(estimator=RandomForestClassifier(), n_jobs=3,\n",
       "                   param_distributions={'max_depth': [2, 3, 5, 10, 15],\n",
       "                                        'min_samples_leaf': [2, 5, 10],\n",
       "                                        'min_samples_split': [2, 5, 10],\n",
       "                                        'n_estimators': [3, 5, 9, 11, 21]},\n",
       "                   verbose=True)"
      ]
     },
     "execution_count": 58,
     "metadata": {},
     "output_type": "execute_result"
    }
   ],
   "source": [
    "rf_model = RandomForestClassifier()\n",
    "params_distr = {\n",
    "    \"n_estimators\": [3, 5, 9, 11, 21],\n",
    "    \"max_depth\": [2, 3, 5, 10, 15],\n",
    "    \"min_samples_split\": [2, 5, 10],\n",
    "    \"min_samples_leaf\": [2, 5, 10]\n",
    "}\n",
    "\n",
    "clf = RandomizedSearchCV(estimator=rf_model, param_distributions=params_distr, verbose=True, n_jobs=3)\n",
    "clf.fit(all_data_X, all_data_y)"
   ]
  },
  {
   "cell_type": "code",
   "execution_count": 59,
   "id": "df2684d4",
   "metadata": {},
   "outputs": [],
   "source": [
    "best_random = clf.best_estimator_"
   ]
  },
  {
   "cell_type": "markdown",
   "id": "c7448f3e",
   "metadata": {},
   "source": [
    "### Final accuracy on the test data"
   ]
  },
  {
   "cell_type": "code",
   "execution_count": 62,
   "id": "7a9e028f",
   "metadata": {},
   "outputs": [
    {
     "name": "stdout",
     "output_type": "stream",
     "text": [
      "Best GS accuracy on test: 73.077%\n",
      "Best RS accuracy on test: 73.159%\n"
     ]
    }
   ],
   "source": [
    "preds_test_gs = best_grid.predict(new_test_X_sc)\n",
    "acc_test_gs = evaluate_test(preds_test_gs)\n",
    "print(f\"Best GS accuracy on test: {round(100 * acc_test_gs, 3)}%\")\n",
    "\n",
    "preds_test_rs = best_random.predict(new_test_X_sc)\n",
    "acc_test_rs = evaluate_test(preds_test_rs)\n",
    "print(f\"Best RS accuracy on test: {round(100 * acc_test_rs, 3)}%\")"
   ]
  },
  {
   "cell_type": "code",
   "execution_count": null,
   "id": "118d98e2",
   "metadata": {},
   "outputs": [],
   "source": []
  }
 ],
 "metadata": {
  "kernelspec": {
   "display_name": "Python 3 (ipykernel)",
   "language": "python",
   "name": "python3"
  },
  "language_info": {
   "codemirror_mode": {
    "name": "ipython",
    "version": 3
   },
   "file_extension": ".py",
   "mimetype": "text/x-python",
   "name": "python",
   "nbconvert_exporter": "python",
   "pygments_lexer": "ipython3",
   "version": "3.7.11"
  }
 },
 "nbformat": 4,
 "nbformat_minor": 5
}
