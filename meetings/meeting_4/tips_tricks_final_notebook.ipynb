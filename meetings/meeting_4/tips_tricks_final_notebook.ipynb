{
 "cells": [
  {
   "cell_type": "code",
   "execution_count": 7,
   "id": "c8f56201",
   "metadata": {},
   "outputs": [],
   "source": [
    "import pandas as pd\n",
    "import numpy as np\n",
    "\n",
    "from sklearn.linear_model import LogisticRegression\n",
    "\n",
    "# Wisienka na koniec\n",
    "from sklearn.tree import DecisionTreeClassifier\n",
    "\n",
    "# Visualization\n",
    "import matplotlib.pyplot as plt\n",
    "import seaborn as sns\n",
    "\n",
    "# Warnings will not pass!\n",
    "import warnings\n",
    "warnings.filterwarnings('ignore')"
   ]
  },
  {
   "cell_type": "markdown",
   "id": "fc073bb3",
   "metadata": {},
   "source": [
    "### Importing data and initial look into it"
   ]
  },
  {
   "cell_type": "code",
   "execution_count": null,
   "id": "2c3098b8",
   "metadata": {},
   "outputs": [],
   "source": [
    "cardio_data = pd.read_csv()"
   ]
  },
  {
   "cell_type": "markdown",
   "id": "97b361a6",
   "metadata": {},
   "source": [
    "### TODO: Dummy train"
   ]
  },
  {
   "cell_type": "code",
   "execution_count": null,
   "id": "c5328fb0",
   "metadata": {},
   "outputs": [],
   "source": []
  },
  {
   "cell_type": "markdown",
   "id": "4e631c15",
   "metadata": {},
   "source": [
    "### TODO: We can do better meme"
   ]
  },
  {
   "cell_type": "code",
   "execution_count": null,
   "id": "24f667c3",
   "metadata": {},
   "outputs": [],
   "source": []
  },
  {
   "cell_type": "markdown",
   "id": "224b0bd4",
   "metadata": {},
   "source": [
    "### TODO: Sklearn - not only for learning"
   ]
  },
  {
   "cell_type": "code",
   "execution_count": null,
   "id": "72b3ed39",
   "metadata": {},
   "outputs": [],
   "source": []
  },
  {
   "cell_type": "markdown",
   "id": "a37412c2",
   "metadata": {},
   "source": [
    "### TODO: Splitting datasets - why the heck is that"
   ]
  },
  {
   "cell_type": "code",
   "execution_count": null,
   "id": "310bcf33",
   "metadata": {},
   "outputs": [],
   "source": []
  },
  {
   "cell_type": "markdown",
   "id": "a0a4f096",
   "metadata": {},
   "source": [
    "### TODO: Common sence cleaning"
   ]
  },
  {
   "cell_type": "code",
   "execution_count": null,
   "id": "fe1ef753",
   "metadata": {},
   "outputs": [],
   "source": []
  },
  {
   "cell_type": "markdown",
   "id": "4adb19ed",
   "metadata": {},
   "source": [
    "### TODO: Encoding"
   ]
  },
  {
   "cell_type": "code",
   "execution_count": null,
   "id": "369aa26e",
   "metadata": {},
   "outputs": [],
   "source": []
  },
  {
   "cell_type": "markdown",
   "id": "94526524",
   "metadata": {},
   "source": [
    "#### TODO: Label encoding (Ordinal)"
   ]
  },
  {
   "cell_type": "code",
   "execution_count": null,
   "id": "b22c91a7",
   "metadata": {},
   "outputs": [],
   "source": []
  },
  {
   "cell_type": "markdown",
   "id": "08f5fbe3",
   "metadata": {},
   "source": [
    "#### TODO: One Hot Encoding"
   ]
  },
  {
   "cell_type": "code",
   "execution_count": null,
   "id": "c4ffd073",
   "metadata": {},
   "outputs": [],
   "source": []
  },
  {
   "cell_type": "markdown",
   "id": "737bd932",
   "metadata": {},
   "source": [
    "### TODO: Scaling"
   ]
  },
  {
   "cell_type": "code",
   "execution_count": null,
   "id": "77fd4e52",
   "metadata": {},
   "outputs": [],
   "source": []
  },
  {
   "cell_type": "code",
   "execution_count": null,
   "id": "0f9cd169",
   "metadata": {},
   "outputs": [],
   "source": []
  },
  {
   "cell_type": "markdown",
   "id": "328b953a",
   "metadata": {},
   "source": [
    "### TODO: Maybe some advanced feature engineering?"
   ]
  },
  {
   "cell_type": "code",
   "execution_count": null,
   "id": "1b5e3553",
   "metadata": {},
   "outputs": [],
   "source": []
  },
  {
   "cell_type": "markdown",
   "id": "cd190647",
   "metadata": {},
   "source": [
    "### TODO: Step back meme"
   ]
  },
  {
   "cell_type": "code",
   "execution_count": null,
   "id": "ba24cebd",
   "metadata": {},
   "outputs": [],
   "source": []
  },
  {
   "cell_type": "markdown",
   "id": "0b5f5914",
   "metadata": {},
   "source": [
    "### TODO: Cross validation and hyperparameter tuning on SVM\n",
    "Since LogisticRegression doesn't give you much hyperparameters to tune."
   ]
  },
  {
   "cell_type": "code",
   "execution_count": null,
   "id": "980ea306",
   "metadata": {},
   "outputs": [],
   "source": []
  },
  {
   "cell_type": "markdown",
   "id": "763508d9",
   "metadata": {},
   "source": [
    "### TODO: Function to apply all of these things to test dataset"
   ]
  },
  {
   "cell_type": "code",
   "execution_count": null,
   "id": "1f65d280",
   "metadata": {},
   "outputs": [],
   "source": []
  }
 ],
 "metadata": {
  "kernelspec": {
   "display_name": "Python 3 (ipykernel)",
   "language": "python",
   "name": "python3"
  },
  "language_info": {
   "codemirror_mode": {
    "name": "ipython",
    "version": 3
   },
   "file_extension": ".py",
   "mimetype": "text/x-python",
   "name": "python",
   "nbconvert_exporter": "python",
   "pygments_lexer": "ipython3",
   "version": "3.7.11"
  }
 },
 "nbformat": 4,
 "nbformat_minor": 5
}
