{
 "cells": [
  {
   "cell_type": "code",
   "execution_count": null,
   "metadata": {
    "id": "5MX8--cyc2gm"
   },
   "outputs": [],
   "source": [
    "import numpy as np\n",
    "import pandas as pd\n",
    "\n",
    "import seaborn as sns\n",
    "\n",
    "from tensorflow import keras\n",
    "\n",
    "from sklearn import preprocessing\n",
    "from sklearn.preprocessing import LabelEncoder\n",
    "from sklearn.model_selection import train_test_split\n",
    "\n",
    "# Remove warnings\n",
    "import warnings\n",
    "warnings.filterwarnings('ignore')\n",
    "\n",
    "import matplotlib.pyplot as plt\n",
    "%matplotlib inline\n",
    "\n",
    "LEVEL = 51\n",
    "SEED = 1584353120"
   ]
  },
  {
   "cell_type": "code",
   "execution_count": null,
   "metadata": {
    "id": "MTRj_UF-djEn"
   },
   "outputs": [],
   "source": [
    "df=pd.read_csv('StudentsPerformance.csv')"
   ]
  },
  {
   "cell_type": "code",
   "execution_count": null,
   "metadata": {
    "colab": {
     "base_uri": "https://localhost:8080/",
     "height": 223
    },
    "id": "JvPFIbuneQo4",
    "outputId": "5b676878-55ee-42c8-b253-dcc1f75f93cf"
   },
   "outputs": [],
   "source": [
    "df.head()"
   ]
  },
  {
   "cell_type": "code",
   "execution_count": null,
   "metadata": {
    "id": "qlQyhrQTeSVE"
   },
   "outputs": [],
   "source": [
    "total_students = df.shape[0]\n",
    "\n",
    "# Min number of points to pass, can be changed\n",
    "\n",
    "students_passing_all_subjects = df[(df['math score'] > LEVEL) &\n",
    "                                (df['writing score'] > LEVEL) & \n",
    "                                (df['reading score'] > LEVEL)].shape[0]\n",
    "#probability_passing_all_the_subjects = (students_passing_all_subjects/total_students)*100\n",
    "\n",
    "def result_of_exam( math, writing, reading):\n",
    "  if(math > LEVEL and writing > LEVEL and reading > LEVEL):\n",
    "    return 'P'\n",
    "  else:\n",
    "    return 'F'\n",
    "\n",
    "df[\"Pass/Fail\"] = df.apply(lambda x: result_of_exam(x['math score'],\n",
    "                                                    x['writing score'],\n",
    "                                                    x['reading score']), axis=1)  "
   ]
  },
  {
   "cell_type": "code",
   "execution_count": null,
   "metadata": {},
   "outputs": [],
   "source": [
    "df.head()"
   ]
  },
  {
   "cell_type": "code",
   "execution_count": null,
   "metadata": {},
   "outputs": [],
   "source": [
    "y=df['Pass/Fail']\n",
    "lb=LabelEncoder()\n",
    "y = lb.fit_transform(y)\n",
    "X=df[['gender','race/ethnicity','parental level of education','lunch','test preparation course', 'Pass/Fail']]"
   ]
  },
  {
   "cell_type": "code",
   "execution_count": null,
   "metadata": {},
   "outputs": [],
   "source": [
    "# Divide data into training and validation subsets\n",
    "X_train, X_valid, y_train, y_valid = train_test_split(X, y, train_size=0.7, test_size=0.3,random_state=SEED)\n",
    "\n",
    "def encode_features(df_train, df_test):\n",
    "  features = ['gender', 'race/ethnicity', 'parental level of education',\n",
    "              'lunch', 'test preparation course', 'Pass/Fail']\n",
    "  df_combined = pd.concat([df_train[features], df_test[features]])\n",
    "\n",
    "  for feature in features:\n",
    "    le = preprocessing.LabelEncoder()\n",
    "    le = le.fit(df_combined[feature])\n",
    "    df_train[feature] = le.transform(df_train[feature])\n",
    "    df_test[feature] = le.transform(df_test[feature])\n",
    "  return df_train, df_test\n",
    "\n",
    "X_train, X_valid = encode_features(X_train, X_valid)\n",
    "#feature importances for better visualization\n",
    "X_fifbv = [X_train, X_valid]\n",
    "X_fin = pd.concat(X_fifbv)\n",
    "y=X_fin.iloc[:,-1] \n",
    "\n",
    "X_fin = X_fin.drop('Pass/Fail', axis=1)\n",
    "\n",
    "X_fin.head()"
   ]
  },
  {
   "cell_type": "code",
   "execution_count": null,
   "metadata": {},
   "outputs": [],
   "source": [
    "def plot_model(history):\n",
    "    # summarize history for accuracy\n",
    "    plt.plot(history.history['accuracy'])\n",
    "    plt.plot(history.history['val_accuracy'])\n",
    "    plt.title('model accuracy')\n",
    "    plt.ylabel('accuracy')\n",
    "    plt.xlabel('epoch')\n",
    "    plt.legend(['train', 'val'], loc='upper left')\n",
    "    plt.show()\n",
    "    # summarize history for loss\n",
    "    plt.plot(history.history['loss'])\n",
    "    plt.plot(history.history['val_loss'])\n",
    "    plt.title('model loss')\n",
    "    plt.ylabel('loss')\n",
    "    plt.xlabel('epoch')\n",
    "    plt.legend(['train', 'val'], loc='upper left')\n",
    "    plt.show()"
   ]
  },
  {
   "cell_type": "code",
   "execution_count": null,
   "metadata": {
    "scrolled": true
   },
   "outputs": [],
   "source": [
    "from keras.models import Sequential\n",
    "from keras.layers import Dense\n",
    "\n",
    "model = Sequential()\n",
    "model.add(Dense(32, activation='relu', input_dim=5))\n",
    "model.add(Dense(1, activation='sigmoid'))\n",
    "\n",
    "model.compile(optimizer='rmsprop', loss='binary_crossentropy', metrics=['accuracy'])\n",
    "history = model.fit(X_fin, y, validation_split=0.3, epochs=100, batch_size=64)\n",
    "predictions = model.predict(X_fin)"
   ]
  },
  {
   "cell_type": "code",
   "execution_count": null,
   "metadata": {
    "scrolled": true
   },
   "outputs": [],
   "source": [
    "model = Sequential()\n",
    "model.add(Dense(32, activation='relu', input_dim=5))\n",
    "model.add(Dense(32, activation='relu')\n",
    "model.add(Dense(1, activation='sigmoid'))\n",
    "\n",
    "model.compile(optimizer='rmsprop', loss='binary_crossentropy', metrics=['accuracy'])\n",
    "history = model.fit(X_fin, y, validation_split=0.3, epochs=100, batch_size=64)\n",
    "predictions = model.predict(X_fin)"
   ]
  },
  {
   "cell_type": "code",
   "execution_count": null,
   "metadata": {},
   "outputs": [],
   "source": []
  }
 ],
 "metadata": {
  "colab": {
   "name": "Spotkanie_4_Golem_Sieci_Neuronowe.ipynb",
   "provenance": []
  },
  "kernelspec": {
   "display_name": "Python 3 (ipykernel)",
   "language": "python",
   "name": "python3"
  },
  "language_info": {
   "codemirror_mode": {
    "name": "ipython",
    "version": 3
   },
   "file_extension": ".py",
   "mimetype": "text/x-python",
   "name": "python",
   "nbconvert_exporter": "python",
   "pygments_lexer": "ipython3",
   "version": "3.9.7"
  }
 },
 "nbformat": 4,
 "nbformat_minor": 1
}
