{
 "cells": [
  {
   "cell_type": "code",
   "execution_count": 1,
   "source": [
    "import numpy as np\r\n",
    "from sklearn.metrics import accuracy_score, precision_score, recall_score, f1_score, confusion_matrix"
   ],
   "outputs": [],
   "metadata": {}
  },
  {
   "cell_type": "code",
   "execution_count": 15,
   "source": [
    "from testing_module import test_metric\r\n",
    "def my_confusion_matrix(y_true, y_pred):\r\n",
    "    n_classes = int(max(y_true.max(), y_pred.max())) + 1\r\n",
    "    cm = np.zeros((n_classes, n_classes), dtype=int)\r\n",
    "    for idx in range(len(y_true)):\r\n",
    "        y_idx = int(y_true[idx])\r\n",
    "        x_idx = int(y_pred[idx])\r\n",
    "        cm[y_idx][x_idx] += 1\r\n",
    "    return cm\r\n",
    "\r\n",
    "def my_accuracy_function(y_true, y_pred):\r\n",
    "    return sum(y_true == y_pred) / len(y_true)\r\n",
    "\r\n",
    "def my_recall_function(y_true, y_pred):\r\n",
    "    cm = my_confusion_matrix(y_true, y_pred)\r\n",
    "    n_classes = cm.shape[0]\r\n",
    "    if n_classes > 2:\r\n",
    "        recall = sum([cm[idx][idx]/sum(cm[idx]) if sum(cm[idx]) != 0 else 0 for idx in range(n_classes)])\r\n",
    "        return recall / n_classes\r\n",
    "    val = cm[1][1]/(cm[1][1]+cm[1][0])\r\n",
    "    return val if not np.isnan(val) else 0.0\r\n",
    "\r\n",
    "def my_precision_function(y_true, y_pred):\r\n",
    "    cm = my_confusion_matrix(y_true, y_pred)\r\n",
    "    n_classes = cm.shape[0]\r\n",
    "    if n_classes > 2:\r\n",
    "        precision = sum([cm[idx][idx]/sum(cm[:, idx]) if sum(cm[:, idx]) != 0 else 0 for idx in range(n_classes)])\r\n",
    "        return precision / n_classes\r\n",
    "    val = cm[1][1]/(cm[1][1]+cm[0][1])\r\n",
    "    return val if not np.isnan(val) else 0.0\r\n",
    "\r\n",
    "def my_f1_function(y_true, y_pred):\r\n",
    "    cm = my_confusion_matrix(y_true, y_pred)\r\n",
    "    n_classes = cm.shape[0]\r\n",
    "    if n_classes > 2:\r\n",
    "        f1 = 0\r\n",
    "        for idx in range(n_classes):\r\n",
    "            precision = cm[idx][idx]/sum(cm[:, idx]) if sum(cm[:, idx]) != 0 else 0\r\n",
    "            recall = cm[idx][idx]/sum(cm[idx]) if sum(cm[idx]) != 0 else 0\r\n",
    "            div = precision + recall\r\n",
    "            f1 += 2*(precision*recall)/div if div != 0 else 0\r\n",
    "        return f1/n_classes        \r\n",
    "    precision = my_precision_function(y_true, y_pred)\r\n",
    "    recall = my_recall_function(y_true, y_pred)\r\n",
    "    div = precision + recall\r\n",
    "    return 2 * (precision * recall) / div if div != 0 else 0\r\n",
    "    "
   ],
   "outputs": [],
   "metadata": {}
  },
  {
   "cell_type": "code",
   "execution_count": 7,
   "source": [
    "test_metric(confusion_matrix, my_confusion_matrix)\r\n",
    "test_metric(accuracy_score, my_accuracy_function)\r\n",
    "test_metric(recall_score, my_recall_function)\r\n",
    "test_metric(precision_score, my_precision_function)\r\n",
    "test_metric(f1_score, my_f1_function)"
   ],
   "outputs": [
    {
     "output_type": "execute_result",
     "data": {
      "text/plain": [
       "(None, None)"
      ]
     },
     "metadata": {},
     "execution_count": 7
    }
   ],
   "metadata": {}
  }
 ],
 "metadata": {
  "orig_nbformat": 4,
  "language_info": {
   "name": "python",
   "version": "3.9.7",
   "mimetype": "text/x-python",
   "codemirror_mode": {
    "name": "ipython",
    "version": 3
   },
   "pygments_lexer": "ipython3",
   "nbconvert_exporter": "python",
   "file_extension": ".py"
  },
  "kernelspec": {
   "name": "python3",
   "display_name": "Python 3.9.7 64-bit ('bootcamp_env': venv)"
  },
  "interpreter": {
   "hash": "961b6a872976a530e9eb1b75fdcd3f6fe3550ef1322ec7de01e1a8a6f96b7246"
  }
 },
 "nbformat": 4,
 "nbformat_minor": 2
}